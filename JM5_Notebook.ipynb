{
 "cells": [
  {
   "cell_type": "markdown",
   "id": "271ad386",
   "metadata": {},
   "source": [
    "## Introduction"
   ]
  },
  {
   "cell_type": "markdown",
   "id": "20ce327c",
   "metadata": {},
   "source": [
    "<a id=\"cont\"></a>\n",
    "\n",
    "## Table of Contents\n",
    "\n",
    "<a href=#one>1. Importing Packages</a>\n",
    "\n",
    "<a href=#two>2. Loading Data</a>\n",
    "\n",
    "<a href=#three>3. Exploratory Data Analysis (EDA)</a>\n",
    "\n",
    "<a href=#four>4. Data Engineering</a>\n",
    "\n",
    "<a href=#five>5. Modeling</a>\n",
    "\n",
    "<a href=#six>6. Model Performance</a>\n",
    "\n",
    "<a href=#seven>7. Model Explanations</a>"
   ]
  },
  {
   "cell_type": "markdown",
   "id": "fe958347",
   "metadata": {},
   "source": [
    " <a id=\"one\"></a>\n",
    "## 1. Importing Packages\n",
    "<a href=#cont>Back to Table of Contents</a>\n",
    "\n",
    "---\n",
    "    \n",
    "| ⚡ Description: Importing Packages ⚡ |\n",
    "| :--------------------------- |\n",
    "| Required to import, and briefly discuss, the libraries that will be used throughout analysis and modelling. |\n",
    "\n",
    "---"
   ]
  },
  {
   "cell_type": "code",


   "execution_count": 1,
   "id": "a9a40500",
   "metadata": {},
   "outputs": [
    {
     "name": "stdout",
     "output_type": "stream",
     "text": [
      "Requirement already satisfied: wordcloud in d:\\my stuff\\documents\\lib\\site-packages (1.9.2)\n",
      "Requirement already satisfied: matplotlib in d:\\my stuff\\documents\\lib\\site-packages (3.7.1)\n",
      "Requirement already satisfied: numpy>=1.6.1 in d:\\my stuff\\documents\\lib\\site-packages (from wordcloud) (1.24.3)\n",
      "Requirement already satisfied: pillow in d:\\my stuff\\documents\\lib\\site-packages (from wordcloud) (9.4.0)\n",
      "Requirement already satisfied: contourpy>=1.0.1 in d:\\my stuff\\documents\\lib\\site-packages (from matplotlib) (1.0.5)\n",
      "Requirement already satisfied: cycler>=0.10 in d:\\my stuff\\documents\\lib\\site-packages (from matplotlib) (0.11.0)\n",
      "Requirement already satisfied: fonttools>=4.22.0 in d:\\my stuff\\documents\\lib\\site-packages (from matplotlib) (4.25.0)\n",
      "Requirement already satisfied: kiwisolver>=1.0.1 in d:\\my stuff\\documents\\lib\\site-packages (from matplotlib) (1.4.4)\n",
      "Requirement already satisfied: packaging>=20.0 in d:\\my stuff\\documents\\lib\\site-packages (from matplotlib) (23.0)\n",
      "Requirement already satisfied: pyparsing>=2.3.1 in d:\\my stuff\\documents\\lib\\site-packages (from matplotlib) (3.0.9)\n",
      "Requirement already satisfied: python-dateutil>=2.7 in d:\\my stuff\\documents\\lib\\site-packages (from matplotlib) (2.8.2)\n",
      "Requirement already satisfied: six>=1.5 in d:\\my stuff\\documents\\lib\\site-packages (from python-dateutil>=2.7->matplotlib) (1.16.0)\n",
      "Note: you may need to restart the kernel to use updated packages.\n"
     ]
    }
   ],
   "source": [

    "from comet_ml import Experiment\n",
    "from comet_ml.integration.sklearn import log_model\n",
    "\n",
    "experiment = Experiment(\n",
    "  api_key=\"hbu6nFnbDgCuG2gKUAdO3w4D2\",\n",
    "  project_name=\"classification-sprint-team-jm5\",\n",
    "  workspace=\"gzukhanye-gmail-com\"\n",
    ")"

     
   ]
  },
  {
   "cell_type": "code",

   "execution_count": 2,
   "id": "77deed18",
   "metadata": {},
   "outputs": [
    {
     "name": "stdout",
     "output_type": "stream",
     "text": [
      "WARNING:tensorflow:From D:\\My Stuff\\Documents\\Lib\\site-packages\\keras\\src\\losses.py:2976: The name tf.losses.sparse_softmax_cross_entropy is deprecated. Please use tf.compat.v1.losses.sparse_softmax_cross_entropy instead.\n",
      "\n"
     ]
    }
   ],
   "source": [
    "import nltk\n",
    "from nltk import FreqDist, bigrams\n",
    "from nltk.corpus import stopwords\n",
    "from nltk.tokenize import word_tokenize\n",
    "from nltk.stem import PorterStemmer\n",
    "from nltk.stem import WordNetLemmatizer\n",
    "\n",
    "import numpy as np\n",
    "import pandas as pd\n",

    "import nltk\n",
    "from nltk import FreqDist, bigrams\n",
    "from nltk.corpus import stopwords\n",
    "from nltk.tokenize import word_tokenize\n",
    "from nltk.stem import PorterStemmer\n",
    "from nltk.stem import WordNetLemmatizer\n",

    "# Libraries for data loading, data manipulation and data visulisation\n",
    "import numpy as np  # For numerical operations\n",
    "import pandas as pd  # For data manipulation\n",
    "import matplotlib.pyplot as plt  # For basic data visualization\n",
    "import seaborn as sns  # For enhanced data visualization\n",
    "import re\n",
    "import nltk\n",
    "import string\n",
    "\n",
    "from sklearn.model_selection import train_test_split\n",
    "from sklearn.preprocessing import LabelEncoder\n",
    "from sklearn.metrics import accuracy_score, classification_report\n",
    "from sklearn.naive_bayes import MultinomialNB\n",
    "from sklearn.feature_extraction.text import TfidfVectorizer, CountVectorizer\n",
    "from sklearn.linear_model import LogisticRegression\n",
    "from nltk.tokenize import word_tokenize\n",
    "from nltk.corpus import stopwords\n",
    "from nltk.stem import PorterStemmer, WordNetLemmatizer\n",
    "from sklearn.svm import SVC\n",
    "from sklearn.ensemble import RandomForestClassifier\n",
    "from sklearn.neighbors import KNeighborsClassifier\n",
    "from tensorflow.keras.preprocessing.text import Tokenizer\n",
    "from tensorflow.keras.preprocessing.sequence import pad_sequences\n",
    "\n",

    "from tensorflow.keras.models import Sequential\n",
    "from tensorflow.keras.layers import Embedding, Conv1D, GlobalMaxPooling1D, Dense\n",
    "from tensorflow.keras.preprocessing.sequence import pad_sequences\n",
    "from tensorflow.keras.utils import to_categorical\n",
    "\n",
    "# Setting global constants to ensure notebook results are reproducible\n",

    "PARAMETER_CONSTANT = 42 ###\n",
    "\n"
   ]
  },
  {
   "cell_type": "code",
   "execution_count": 3,
   "id": "bc1e7508",
   "metadata": {},
   "outputs": [
    {
     "name": "stderr",
     "output_type": "stream",
     "text": [
      "[nltk_data] Downloading package punkt to C:\\Users\\Technical\n",
      "[nltk_data]     Error\\AppData\\Roaming\\nltk_data...\n",
      "[nltk_data]   Package punkt is already up-to-date!\n"
     ]
    },
    {
     "data": {
      "text/plain": [
       "True"
      ]
     },
     "execution_count": 3,
     "metadata": {},
     "output_type": "execute_result"
    }
   ],
   "source": [
    "nltk.download('punkt')"
   ]
  },
  {
   "cell_type": "code",
   "execution_count": 4,
   "id": "fee1aabf",
   "metadata": {},
   "outputs": [
    {
     "name": "stderr",
     "output_type": "stream",
     "text": [
      "[nltk_data] Downloading package stopwords to C:\\Users\\Technical\n",
      "[nltk_data]     Error\\AppData\\Roaming\\nltk_data...\n",
      "[nltk_data]   Package stopwords is already up-to-date!\n"
     ]
    },
    {
     "data": {
      "text/plain": [
       "True"
      ]
     },
     "execution_count": 4,
     "metadata": {},
     "output_type": "execute_result"
    }
   ],
   "source": [
    "nltk.download('stopwords')"
   ]
  },
  {
   "cell_type": "code",
   "execution_count": 5,
   "id": "4f42309a",
   "metadata": {},
   "outputs": [
    {
     "name": "stderr",
     "output_type": "stream",
     "text": [
      "[nltk_data] Downloading package wordnet to C:\\Users\\Technical\n",
      "[nltk_data]     Error\\AppData\\Roaming\\nltk_data...\n",
      "[nltk_data]   Package wordnet is already up-to-date!\n"
     ]
    },
    {
     "data": {
      "text/plain": [
       "True"
      ]
     },
     "execution_count": 5,
     "metadata": {},
     "output_type": "execute_result"
    }
   ],
   "source": [
    "nltk.download('wordnet')"
   ]
  },
  {
   "cell_type": "markdown",
   "id": "112d16df",
   "metadata": {},
   "source": [
    "<a id=\"two\"></a>\n",
    "## 2. Loading the Data\n",
    "<a class=\"anchor\" id=\"1.1\"></a>\n",
    "<a href=#cont>Back to Table of Contents</a>\n",
    "\n",
    "---\n",
    "    \n",
    "| ⚡ Description: Loading the data ⚡ |\n",
    "| :--------------------------- |\n",
    "| Load the data from the `train and test` file into a DataFrame. |\n",
    "\n",
    "---"
   ]
  },
  {
   "cell_type": "code",
   "execution_count": 6,
   "id": "86baf31b",
   "metadata": {},
   "outputs": [],
   "source": [
    "# loaded the data from the df file as a dataFrame\n",
    "df_train = pd.read_csv(\"train.csv\") \n",
    "df_test = pd.read_csv(\"test.csv\")"
   ]
  },
  {
   "cell_type": "code",
   "execution_count": 7,
   "id": "1b38162c",
   "metadata": {},
   "outputs": [
    {
     "data": {
      "text/html": [
       "<div>\n",
       "<style scoped>\n",
       "    .dataframe tbody tr th:only-of-type {\n",
       "        vertical-align: middle;\n",
       "    }\n",
       "\n",
       "    .dataframe tbody tr th {\n",
       "        vertical-align: top;\n",
       "    }\n",
       "\n",
       "    .dataframe thead th {\n",
       "        text-align: right;\n",
       "    }\n",
       "</style>\n",
       "<table border=\"1\" class=\"dataframe\">\n",
       "  <thead>\n",
       "    <tr style=\"text-align: right;\">\n",
       "      <th></th>\n",
       "      <th>sentiment</th>\n",
       "      <th>message</th>\n",
       "      <th>tweetid</th>\n",
       "    </tr>\n",
       "  </thead>\n",
       "  <tbody>\n",
       "    <tr>\n",
       "      <th>0</th>\n",
       "      <td>1</td>\n",
       "      <td>PolySciMajor EPA chief doesn't think carbon di...</td>\n",
       "      <td>625221</td>\n",
       "    </tr>\n",
       "    <tr>\n",
       "      <th>1</th>\n",
       "      <td>1</td>\n",
       "      <td>It's not like we lack evidence of anthropogeni...</td>\n",
       "      <td>126103</td>\n",
       "    </tr>\n",
       "    <tr>\n",
       "      <th>2</th>\n",
       "      <td>2</td>\n",
       "      <td>RT @RawStory: Researchers say we have three ye...</td>\n",
       "      <td>698562</td>\n",
       "    </tr>\n",
       "    <tr>\n",
       "      <th>3</th>\n",
       "      <td>1</td>\n",
       "      <td>#TodayinMaker# WIRED : 2016 was a pivotal year...</td>\n",
       "      <td>573736</td>\n",
       "    </tr>\n",
       "    <tr>\n",
       "      <th>4</th>\n",
       "      <td>1</td>\n",
       "      <td>RT @SoyNovioDeTodas: It's 2016, and a racist, ...</td>\n",
       "      <td>466954</td>\n",
       "    </tr>\n",
       "    <tr>\n",
       "      <th>5</th>\n",
       "      <td>1</td>\n",
       "      <td>Worth a read whether you do or don't believe i...</td>\n",
       "      <td>425577</td>\n",
       "    </tr>\n",
       "    <tr>\n",
       "      <th>6</th>\n",
       "      <td>1</td>\n",
       "      <td>RT @thenation: Mike Pence doesn’t believe in g...</td>\n",
       "      <td>294933</td>\n",
       "    </tr>\n",
       "    <tr>\n",
       "      <th>7</th>\n",
       "      <td>1</td>\n",
       "      <td>RT @makeandmendlife: Six big things we can ALL...</td>\n",
       "      <td>992717</td>\n",
       "    </tr>\n",
       "    <tr>\n",
       "      <th>8</th>\n",
       "      <td>1</td>\n",
       "      <td>@AceofSpadesHQ My 8yo nephew is inconsolable. ...</td>\n",
       "      <td>664510</td>\n",
       "    </tr>\n",
       "    <tr>\n",
       "      <th>9</th>\n",
       "      <td>1</td>\n",
       "      <td>RT @paigetweedy: no offense… but like… how do ...</td>\n",
       "      <td>260471</td>\n",
       "    </tr>\n",
       "  </tbody>\n",
       "</table>\n",
       "</div>"
      ],
      "text/plain": [
       "   sentiment                                            message  tweetid\n",
       "0          1  PolySciMajor EPA chief doesn't think carbon di...   625221\n",
       "1          1  It's not like we lack evidence of anthropogeni...   126103\n",
       "2          2  RT @RawStory: Researchers say we have three ye...   698562\n",
       "3          1  #TodayinMaker# WIRED : 2016 was a pivotal year...   573736\n",
       "4          1  RT @SoyNovioDeTodas: It's 2016, and a racist, ...   466954\n",
       "5          1  Worth a read whether you do or don't believe i...   425577\n",
       "6          1  RT @thenation: Mike Pence doesn’t believe in g...   294933\n",
       "7          1  RT @makeandmendlife: Six big things we can ALL...   992717\n",
       "8          1  @AceofSpadesHQ My 8yo nephew is inconsolable. ...   664510\n",
       "9          1  RT @paigetweedy: no offense… but like… how do ...   260471"
      ]
     },
     "execution_count": 7,
     "metadata": {},
     "output_type": "execute_result"
    }
   ],
   "source": [
    "df_train.head(10)"
   ]
  },
  {
   "cell_type": "markdown",
   "id": "6f7631be",
   "metadata": {},
   "source": [
    "<a id=\"three\"></a>\n",
    "## 3. Exploratory Data Analysis (EDA)\n",
    "<a class=\"anchor\" id=\"1.1\"></a>\n",
    "<a href=#cont>Back to Table of Contents</a>\n",
    "\n",
    "---\n",
    "    \n",
    "| ⚡ Description: Exploratory data analysis ⚡ |\n",
    "| :--------------------------- |\n",
    "| Perform an in-depth analysis of all the variables in the DataFrame. |\n",
    "\n",
    "---\n"
   ]
  },
  {
   "cell_type": "code",
   "execution_count": 8,
   "id": "208bccb8",
   "metadata": {},
   "outputs": [
    {
     "data": {
      "text/plain": [
       "(10546, 2)"
      ]
     },
     "execution_count": 8,
     "metadata": {},
     "output_type": "execute_result"
    }
   ],
   "source": [
    "#displays the number of rows and columns \n",
    "df_train.shape\n",
    "df_test.shape"
   ]
  },
  {
   "cell_type": "code",
   "execution_count": 9,
   "id": "f4603951",
   "metadata": {},
   "outputs": [
    {
     "name": "stdout",
     "output_type": "stream",
     "text": [
      "<class 'pandas.core.frame.DataFrame'>\n",
      "RangeIndex: 15819 entries, 0 to 15818\n",
      "Data columns (total 3 columns):\n",
      " #   Column     Non-Null Count  Dtype \n",
      "---  ------     --------------  ----- \n",
      " 0   sentiment  15819 non-null  int64 \n",
      " 1   message    15819 non-null  object\n",
      " 2   tweetid    15819 non-null  int64 \n",
      "dtypes: int64(2), object(1)\n",
      "memory usage: 370.9+ KB\n",
      "\n",
      "\n",
      "<class 'pandas.core.frame.DataFrame'>\n",
      "RangeIndex: 10546 entries, 0 to 10545\n",
      "Data columns (total 2 columns):\n",
      " #   Column   Non-Null Count  Dtype \n",
      "---  ------   --------------  ----- \n",
      " 0   message  10546 non-null  object\n",
      " 1   tweetid  10546 non-null  int64 \n",
      "dtypes: int64(1), object(1)\n",
      "memory usage: 164.9+ KB\n"
     ]
    }
   ],
   "source": [
    "''''\n",
    "Displays info about the columns\n",
    "'message' is categorical whereas\n",
    "'tweetId' & 'sentiment' are numerical\n",
    "'''\n",
    "df_train.info()\n",
    "print(\"\\n\")\n",
    "df_test.info()"
   ]
  },
  {
   "cell_type": "code",
   "execution_count": 10,
   "id": "bab9ba38",
   "metadata": {},
   "outputs": [
    {
     "data": {
      "image/png": "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",
      "text/plain": [
       "<Figure size 640x480 with 1 Axes>"
      ]
     },
     "metadata": {},
     "output_type": "display_data"
    }
   ],
   "source": [
    "'''\n",
    "The distribution of classes in 'sentiment'\n",
    "1(reference class) has the highest distribution\n",
    "'''\n",
    "\n",
    "sns.countplot(x='sentiment', data=df_train)\n",
    "plt.title('Distribution of Sentiments')\n",
    "plt.show()"
   ]
  },
  {
   "cell_type": "markdown",
   "id": "6deab5ad",
   "metadata": {},
   "source": [
    "#### Tweet Data Analysis"
   ]
  },
  {
   "cell_type": "markdown",
   "id": "19358e63",
   "metadata": {},
   "source": [
    "1. Average length of tweets"
   ]
  },
  {
   "cell_type": "code",
   "execution_count": 11,
   "id": "c3f80961",
   "metadata": {},
   "outputs": [],
   "source": [
    "# Analyze the characteristics of the tweet text\n",
    "df_train['tweet_length'] = df_train['message'].apply(len)"
   ]
  },
  {
   "cell_type": "markdown",
   "id": "86c8c95f",
   "metadata": {},
   "source": [
    "2. Distribution of tweet length"
   ]
  },
  {
   "cell_type": "code",
   "execution_count": 12,
   "id": "60427c14",
   "metadata": {},
   "outputs": [
    {
     "data": {
      "image/png": "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",
      "text/plain": [
       "<Figure size 1000x600 with 1 Axes>"
      ]
     },
     "metadata": {},
     "output_type": "display_data"
    }
   ],
   "source": [
    "plt.figure(figsize=(10, 6))\n",
    "sns.histplot(df_train['tweet_length'], bins=50, kde=True)\n",
    "plt.title('Distribution of Tweet Lengths')\n",
    "plt.xlabel('Tweet Length')\n",
    "plt.show()"
   ]
  },
  {
   "cell_type": "markdown",
   "id": "eccc570f",
   "metadata": {},
   "source": [
    "3. Common words and phrases"
   ]
  },
  {
   "cell_type": "code",
   "execution_count": 13,
   "id": "766c2387",
   "metadata": {},
   "outputs": [
    {
     "name": "stdout",
     "output_type": "stream",
     "text": [
      "Common Words: [(':', 22517), ('@', 14835), ('climate', 12607), ('change', 12330), ('https', 10001), ('RT', 9717), ('.', 7274), ('to', 7083), ('the', 6421), (',', 6152)]\n",
      "Common Bigrams: [(('climate', 'change'), 12004), (('https', ':'), 10001), (('RT', '@'), 9616), (('global', 'warming'), 3287), (('change', '.'), 1389), (('change', 'https'), 1342), (('on', 'climate'), 1171), (('change', 'is'), 1166), (('.', 'https'), 1061), (('&', 'amp'), 940)]\n"
     ]
    }
   ],
   "source": [
    "'''\n",
    "Concatenates the all the tweets into a single string\n",
    "and tokenises the text into individual words and\n",
    "outputs the most common words & its frequencies\n",
    "'''\n",
    "all_text = ' '.join(df_train['message'].astype(str))\n",
    "\n",
    "tokens = word_tokenize(all_text)\n",
    "fdist = FreqDist(tokens)\n",
    "common_words = fdist.most_common(10)\n",
    "print(\"Common Words:\", common_words)\n",
    "\n",
    "bi_grams = list(bigrams(tokens))\n",
    "bi_gram_freq = FreqDist(bi_grams)\n",
    "common_bigrams = bi_gram_freq.most_common(10)\n",
    "print(\"Common Bigrams:\", common_bigrams)"
   ]
  },
  {
   "cell_type": "markdown",
   "id": "cb4d46b6",
   "metadata": {},
   "source": [
    "4. WordCloud"
   ]
  },
  {
   "cell_type": "code",
   "execution_count": 14,
   "id": "59d36a10",
   "metadata": {},
   "outputs": [
    {
     "data": {
      "text/plain": [
       "Text(0.5, 1.0, 'WordCloud for Positive Sentiments')"
      ]
     },
     "execution_count": 14,
     "metadata": {},
     "output_type": "execute_result"
    },
    {
     "data": {
      "image/png": "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",
      "text/plain": [
       "<Figure size 1000x600 with 1 Axes>"
      ]
     },
     "metadata": {},
     "output_type": "display_data"
    }
   ],
   "source": [
    "'''\n",
    "WordCloud: data visualization technique used for representing text data\n",
    "in which the size of each word indicates its frequency or importance.\n",
    "widely used for analyzing data from social network websites. (Twitter)\n",
    "1 is the reference class(people who are in support of climate change)\n",
    "'''\n",
    "\n",
    "positive_tweets = df_train[df_train['sentiment'] == 1]['message'].values\n",
    "positive_wordcloud = WordCloud(width=800, height=400, background_color='white').generate(' '.join(positive_tweets))\n",
    "plt.figure(figsize=(10, 6))\n",
    "plt.imshow(positive_wordcloud, interpolation='bilinear')\n",
    "plt.axis('off')\n",
    "plt.title('WordCloud for Positive Sentiments')"
   ]
  },
  {
   "cell_type": "markdown",
   "id": "4001e5fc",
   "metadata": {},
   "source": [
    "5. Verify for any null values"
   ]
  },
  {
   "cell_type": "code",
   "execution_count": 15,
   "id": "272ee92c",
   "metadata": {},
   "outputs": [
    {
     "data": {
      "text/plain": [
       "message    0\n",
       "tweetid    0\n",
       "dtype: int64"
      ]
     },
     "execution_count": 15,
     "metadata": {},
     "output_type": "execute_result"
    }
   ],
   "source": [
    "df_train.isnull().sum()\n",
    "df_test.isnull().sum()"
   ]
  },
  {
   "cell_type": "code",
   "execution_count": null,
   "metadata": {},
   "outputs": [],
   "source": [
    "\n",
    "#displays the number of rows and columns\n",
    "df_train.shape"
   ]
  },
  {
   "cell_type": "code",
   "execution_count": null,
   "metadata": {},
   "outputs": [],
   "source": [
    "df_test.shape"
   ]
  },
  {
   "cell_type": "code",
   "execution_count": null,
   "metadata": {},
   "outputs": [],
   "source": [
    "''''\n",
    "Displays info about the columns\n",
    "'message' is categorical whereas\n",
    "'tweetId' & 'sentiment' are numerical\n",
    "'''\n",
    "df_train.info()\n",
    "print(\"\\n\")\n",
    "df_test.info()"
   ]
  },
  {
   "cell_type": "markdown",
   "metadata": {},
   "source": [
    "### Cleaning data\n",
    "Removing all the null values\n",
    "\n"
   ]
  },
  {
   "cell_type": "code",
   "execution_count": null,
   "metadata": {},
   "outputs": [],
   "source": [
    "df_train.isnull().sum()"
   ]
  },
  {
   "cell_type": "code",
   "execution_count": null,
   "metadata": {},
   "outputs": [],
   "source": [
    "df_test.isnull().sum()"
   ]
  },
  {
   "cell_type": "markdown",
   "metadata": {},
   "source": [
    "This function turns the sentiment codes into actual words Pro for 1, Anti for -1, Neutral for 0 and News for 2 which will make it easier for us to explore and visualise the data."
   ]
  },
  {
   "cell_type": "code",
   "execution_count": null,
   "metadata": {},
   "outputs": [],
   "source": [
    "def clean_sentiment(df):\n",
    "    \"\"\"This function turns the sentiment codes into actual words which will make it easier for us to see\"\"\"\n",
    "\n",
    "    # creating a empty list for storage\n",
    "    sentiment_list = []\n",
    "\n",
    "    # Going through each sentiment and changing them accordingly, this is what this loop and the if statements do.\n",
    "    for number in df['sentiment'] :\n",
    "\n",
    "        if number == 1 :\n",
    "            sentiment_list.append('Pro')\n",
    "\n",
    "        elif number == 0 :\n",
    "            sentiment_list.append('Neutral')\n",
    "\n",
    "        elif number == -1 :\n",
    "            sentiment_list.append('Anti')\n",
    "\n",
    "        else :\n",
    "            sentiment_list.append('News')\n",
    "\n",
    "    # putting our sentiments in the column named 'sentiment' to our dataframe\n",
    "    df['sentiment'] = sentiment_list\n",
    "\n",
    "    return df\n",
    "clean_sentiment(df_train)"
   ]
  },
  {
   "cell_type": "markdown",
   "metadata": {},
   "source": [
    "We are extracting hashtags to know which sentiment likes which hashtag."
   ]
  },
  {
   "cell_type": "markdown",
   "metadata": {},
   "source": []
  },
  {
   "cell_type": "code",
   "execution_count": null,
   "metadata": {},
   "outputs": [],
   "source": [
    "def hashtag_extract(tweet):\n",
    "    \"\"\"Helper function to extract hashtags\"\"\"\n",
    "    # creating a empty list for storage where we will keep our Hashtags later\n",
    "    hashtags = []\n",
    "\n",
    "    # Going through each tweet and looking for each hashtag and appending the Hashtags in our empty list hashtags\n",
    "    for i in tweet:\n",
    "        ht = re.findall(r\"#(\\w+)\", i)\n",
    "        hashtags.append(ht)\n",
    "\n",
    "    # finding the sum of the elements in the list hashtag\n",
    "    hashtags = sum(hashtags, [])\n",
    "\n",
    "    # creating a dictionary with tokens from the list hashtags into a dictionary, where the keys are the frequency and the values is the frequency\n",
    "    frequency = nltk.FreqDist(hashtags)\n",
    "\n",
    "    # creating a dataframe from the dictionary to keep track of the word and the frequency\n",
    "    hashtag_df = pd.DataFrame({'hashtag': list(frequency.keys()),\n",
    "                           'count': list(frequency.values())})\n",
    "\n",
    "    # method is used to get n largest values from a dataframe\n",
    "    hashtag_df = hashtag_df.nlargest(15, columns=\"count\")\n",
    "\n",
    "    return hashtag_df\n",
    "\n",
    "def hashtag_extract(tweet):\n",
    "    \"\"\"Helper function to extract hashtags\"\"\"\n",
    "    # creating a empty list for storage where we will keep our Hashtags later\n",
    "    hashtags = []\n",
    "\n",
    "    # Going through each tweet and looking for each hashtag and appending the Hashtags in our empty list hashtags\n",
    "    for i in tweet:\n",
    "        ht = re.findall(r\"#(\\w+)\", i)\n",
    "        hashtags.append(ht)\n",
    "\n",
    "    # finding the sum of the elements in the list hashtag\n",
    "    hashtags = sum(hashtags, [])\n",
    "\n",
    "    # creating a dictionary with tokens from the list hashtags into a dictionary, where the keys are the frequency and the values is the frequency\n",
    "    frequency = nltk.FreqDist(hashtags)\n",
    "\n",
    "    # creating a dataframe from the dictionary to keep track of the word and the frequency\n",
    "    hashtag_df = pd.DataFrame({'hashtag': list(frequency.keys()),\n",
    "                           'count': list(frequency.values())})\n",
    "\n",
    "    # method is used to get n largest values from a dataframe\n",
    "    hashtag_df = hashtag_df.nlargest(15, columns=\"count\")\n",
    "\n",
    "    return hashtag_df\n",
    "\n",
    "\n",
    "#Extracting the hashtags for the pro sentiment tweets\n",
    "pro = hashtag_extract(df_train['message'][df_train['sentiment'] == 'Pro'])\n",
    "\n",
    "#Extracting the hashtags for the Anti sentiment tweets\n",
    "anti = hashtag_extract(df_train['message'][df_train['sentiment'] == 'Anti'])\n",
    "\n",
    "#Extracting the hashtags for the Neutral sentiment tweets\n",
    "neutral = hashtag_extract(df_train['message'][df_train['sentiment'] == 'Neutral'])\n",
    "\n",
    "#Extracting the hashtags for the News sentiment tweets\n",
    "news = hashtag_extract(df_train['message'][df_train['sentiment'] == \"News\"])\n",
    "\n",
    "\n",
    "#creating a dataframe with all the hashtags and a count for each sentiment\n",
    "df_hashtags = pro.merge(anti,on='hashtag',suffixes=('_pro', '_anti'), how = 'outer').merge(neutral,on='hashtag', how = 'outer').merge(news,on='hashtag', suffixes = ('_neutral', '_news'), how = 'outer')\n",
    "df_hashtags\n"
   ]
  },
  {
   "cell_type": "code",
   "execution_count": null,
   "metadata": {},
   "outputs": [],
   "source": [
    "# Separate joined words based on capitals\n",
    "def camel_case_split(identifier):\n",
    "\n",
    "    matches = re.finditer(\n",
    "        r'.+?(?:(?<=[a-z])(?=[A-Z])|(?<=[A-Z])(?=[A-Z][a-z])|$)',\n",
    "        identifier\n",
    "    )\n",
    "    return \" \".join([m.group(0) for m in matches])\n",
    "\n",
    "# Extract Mentions\n",
    "def extract_mentions(tweet):\n",
    "\n",
    "  \"\"\"Helper function to extract mentions\"\"\"\n",
    "  mentions = re.findall(r'@([a-zA-Z0-9_]{1}[a-zA-Z0-9_]{0,14})', tweet)\n",
    "\n",
    "  return mentions\n",
    "\n",
    "#Applying the function on the dataframe\n",
    "df_train['mentions'] = df_train['message'].apply(extract_mentions)\n",
    "df_train"
   ]
  },
  {
   "cell_type": "code",
   "execution_count": null,
   "metadata": {},
   "outputs": [],
   "source": [
    "# Create a list of all the mentions\n",
    "mentions_list = [item for new_list in df_train['mentions'] for item in new_list]\n",
    "\n",
    "# Grouping mentions by sentiment\n",
    "# News Mentions\n",
    "news_mentions = df_train[df_train['sentiment'] == 'News']['mentions']\n",
    "news_mentions = [x for x in news_mentions if x != []]\n",
    "news_mentions = [item for new_list in news_mentions for item in new_list]\n",
    "\n",
    "# Positive Mentions\n",
    "pos_mentions = df_train[df_train['sentiment'] == 'Pro']['mentions']\n",
    "pos_mentions = [x for x in pos_mentions if x != []]\n",
    "pos_mentions = [item for new_list in pos_mentions for item in new_list]\n",
    "\n",
    "# Neutral Mentions\n",
    "neutral_mentions =df_train[df_train['sentiment'] == 'Neutral']['mentions']\n",
    "neutral_mentions = [x for x in neutral_mentions if x != []]\n",
    "neutral_mentions = [item for new_list in neutral_mentions for item in new_list]\n",
    "\n",
    "# Negative Mentions\n",
    "neg_mentions = df_train[df_train['sentiment'] == 'Anti']['mentions']\n",
    "neg_mentions = [x for x in neg_mentions if x != []]\n",
    "neg_mentions = [item for new_list in neg_mentions for item in new_list]"
   ]
  },
  {
   "cell_type": "code",
   "execution_count": null,
   "metadata": {},
   "outputs": [],
   "source": [
    "#Removing RT ftom tweets\n",
    "df_train['message'] = df_train['message'].str.strip('rt ')\n",
    "\n",
    "df_test['message'] = df_test['message'].str.strip('rt ')\n",
    "\n",
    "# Remove @ mentions\n",
    "pattern = r\"@[\\w]+\" # pattern to remove\n",
    "\n",
    "pattern = r\"@[\\w]+\" # pattern to remove\n",
    "\n",
    "sub = r'' # replace it with with an empty space\n",
    "\n",
    "#transforming our dataframe\n",
    "df_train['message'] = df_train['message'].replace(to_replace = pattern, value = sub, regex = True)\n",
    "\n",
    "#transforming our dataframe\n",
    "df_test['message'] = df_test['message'].replace(to_replace = pattern, value = sub, regex = True)\n",
    "\n",
    "df_train\n"
   ]
  },
  {
   "cell_type": "code",
   "execution_count": null,
   "metadata": {},
   "outputs": [],
   "source": [
    "#Function used to lookup shortwords from the dictionary\n",
    "def lookup_dict(text, dictionary):\n",
    "\n",
    "    for word in text.split():\n",
    "\n",
    "        if word.lower() in dictionary:\n",
    "\n",
    "            if word.lower() in text.split():\n",
    "\n",
    "                text = text.replace(word, dictionary[word.lower()])\n",
    "    return text"
   ]
  },
  {
   "cell_type": "code",
   "execution_count": null,
   "metadata": {},
   "outputs": [],
   "source": [
    "#create a dictionary of contractions as the keys and its full word representation as the values\n",
    "short_and_contractions = {\n",
    "\"ain't\": \"am not / are not\",\n",
    "\"aren't\": \"are not / am not\",\n",
    "\"can't\": \"cannot\",\n",
    "\"can't've\": \"cannot have\",\n",
    "\"'cause\": \"because\",\n",
    "\"could've\": \"could have\",\n",
    "\"couldn't\": \"could not\",\n",
    "\"couldn't've\": \"could not have\",\n",
    "\"didn't\": \"did not\",\n",
    "\"doesn't\": \"does not\",\n",
    "\"don't\": \"do not\",\n",
    "\"hadn't\": \"had not\",\n",
    "\"hadn't've\": \"had not have\",\n",
    "\"hasn't\": \"has not\",\n",
    "\"haven't\": \"have not\",\n",
    "\"he'd\": \"he had / he would\",\n",
    "\"he'd've\": \"he would have\",\n",
    "\"he'll\": \"he shall / he will\",\n",
    "\"he'll've\": \"he shall have / he will have\",\n",
    "\"he's\": \"he has / he is\",\n",
    "\"how'd\": \"how did\",\n",
    "\"how'd'y\": \"how do you\",\n",
    "\"how'll\": \"how will\",\n",
    "\"how's\": \"how has / how is\",\n",
    "\"i'd\": \"I had / I would\",\n",
    "\"i'd've\": \"I would have\",\n",
    "\"i'll\": \"I shall / I will\",\n",
    "\"i'll've\": \"I shall have / I will have\",\n",
    "\"i'm\": \"I am\",\n",
    "\"i've\": \"I have\",\n",
    "\"isn't\": \"is not\",\n",
    "\"it'd\": \"it would\",\n",
    "\"it'd've\": \"it would have\",\n",
    "\"it'll\": \"it shall / it will\",\n",
    "\"it'll've\": \"it shall have / it will have\",\n",
    "\"it's\": \"it is\",\n",
    "\"let's\": \"let us\",\n",
    "\"ma'am\": \"madam\",\n",
    "\"mayn't\": \"may not\",\n",
    "\"might've\": \"might have\",\n",
    "\"mightn't\": \"might not\",\n",
    "\"mightn't've\": \"might not have\",\n",
    "\"must've\": \"must have\",\n",
    "\"mustn't\": \"must not\",\n",
    "\"mustn't've\": \"must not have\",\n",
    "\"needn't\": \"need not\",\n",
    "\"needn't've\": \"need not have\",\n",
    "\"o'clock\": \"of the clock\",\n",
    "\"oughtn't\": \"ought not\",\n",
    "\"oughtn't've\": \"ought not have\",\n",
    "\"shan't\": \"shall not\",\n",
    "\"sha'n't\": \"shall not\",\n",
    "\"shan't've\": \"shall not have\",\n",
    "\"she'd\": \"she had / she would\",\n",
    "\"she'd've\": \"she would have\",\n",
    "\"she'll\": \"she shall / she will\",\n",
    "\"she'll've\": \"she shall have / she will have\",\n",
    "\"she's\": \"she has / she is\",\n",
    "\"should've\": \"should have\",\n",
    "\"shouldn't\": \"should not\",\n",
    "\"shouldn't've\": \"should not have\",\n",
    "\"so've\": \"so have\",\n",
    "\"so's\": \"so as / so is\",\n",
    "\"that'd\": \"that would / that had\",\n",
    "\"that'd've\": \"that would have\",\n",
    "\"that's\": \"that has / that is\",\n",
    "\"there'd\": \"there had / there would\",\n",
    "\"there'd've\": \"there would have\",\n",
    "\"there's\": \"there has / there is\",\n",
    "\"they'd\": \"they had / they would\",\n",
    "\"they'd've\": \"they would have\",\n",
    "\"they'll\": \"they shall / they will\",\n",
    "\"they'll've\": \"they shall have / they will have\",\n",
    "\"they're\": \"they are\",\n",
    "\"they've\": \"they have\",\n",
    "\"to've\": \"to have\",\n",
    "\"wasn't\": \"was not\",\n",
    "\"we'd\": \"we had / we would\",\n",
    "\"we'd've\": \"we would have\",\n",
    "\"we'll\": \"we will\",\n",
    "\"we'll've\": \"we will have\",\n",
    "\"we're\": \"we are\",\n",
    "\"we've\": \"we have\",\n",
    "\"weren't\": \"were not\",\n",
    "\"what'll\": \"what shall / what will\",\n",
    "\"what'll've\": \"what shall have / what will have\",\n",
    "\"what're\": \"what are\",\n",
    "\"what's\": \"what has / what is\",\n",
    "\"what've\": \"what have\",\n",
    "\"when's\": \"when has / when is\",\n",
    "\"when've\": \"when have\",\n",
    "\"where'd\": \"where did\",\n",
    "\"where's\": \"where has / where is\",\n",
    "\"where've\": \"where have\",\n",
    "\"who'll\": \"who shall / who will\",\n",
    "\"who'll've\": \"who shall have / who will have\",\n",
    "\"who's\": \"who has / who is\",\n",
    "\"who've\": \"who have\",\n",
    "\"why's\": \"why has / why is\",\n",
    "\"why've\": \"why have\",\n",
    "\"will've\": \"will have\",\n",
    "\"won't\": \"will not\",\n",
    "\"won't've\": \"will not have\",\n",
    "\"would've\": \"would have\",\n",
    "\"wouldn't\": \"would not\",\n",
    "\"wouldn't've\": \"would not have\",\n",
    "\"y'all\": \"you all\",\n",
    "\"y'all'd\": \"you all would\",\n",
    "\"y'all'd've\": \"you all would have\",\n",
    "\"y'all're\": \"you all are\",\n",
    "\"y'all've\": \"you all have\",\n",
    "\"you'd\": \"you had / you would\",\n",
    "\"you'd've\": \"you would have\",\n",
    "\"you'll\": \"you shall / you will\",\n",
    "\"you'll've\": \"you shall have / you will have\",\n",
    "\"you're\": \"you are\",\n",
    "\"you've\": \"you have\",\n",
    "\"121\": \"one to one\",\n",
    "\"a/s/l\": \"age, sex, location\",\n",
    "\"adn\": \"any day now\",\n",
    "\"afaik\": \"as far as I know\",\n",
    "\"afk\": \"away from keyboard\",\n",
    "\"aight\": \"alright\",\n",
    "\"alol\": \"actually laughing out loud\",\n",
    "\"b4\": \"before\",\n",
    "\"b4n\": \"bye for now\",\n",
    "\"bak\": \"back at the keyboard\",\n",
    "\"bf\": \"boyfriend\",\n",
    "\"bff\": \"best friends forever\",\n",
    "\"bfn\": \"bye for now\",\n",
    "\"bg\": \"big grin\",\n",
    "\"bta\": \"but then again\",\n",
    "\"btw\": \"by the way\",\n",
    "\"cid\": \"crying in disgrace\",\n",
    "\"cnp\": \"continued in my next post\",\n",
    "\"cp\": \"chat post\",\n",
    "\"cu\": \"see you\",\n",
    "\"cul\": \"see you later\",\n",
    "\"cul8r\": \"see you later\",\n",
    "\"cya\": \"bye\",\n",
    "\"cyo\": \"see you online\",\n",
    "\"dbau\": \"doing business as usual\",\n",
    "\"fud\": \"fear, uncertainty, and doubt\",\n",
    "\"fwiw\": \"for what it's worth\",\n",
    "\"fyi\": \"for your information\",\n",
    "\"g\": \"grin\",\n",
    "\"g2g\": \"got to go\",\n",
    "\"ga\": \"go ahead\",\n",
    "\"gal\": \"get a life\",\n",
    "\"gf\": \"girlfriend\",\n",
    "\"gfn\": \"gone for now\",\n",
    "\"gmbo\": \"giggling my butt off\",\n",
    "\"gmta\": \"great minds think alike\",\n",
    "\"h8\": \"hate\",\n",
    "\"hagn\": \"have a good night\",\n",
    "\"hdop\": \"help delete online predators\",\n",
    "\"hhis\": \"hanging head in shame\",\n",
    "\"iac\": \"in any case\",\n",
    "\"ianal\": \"I am not a lawyer\",\n",
    "\"ic\": \"I see\",\n",
    "\"idk\": \"I don't know\",\n",
    "\"imao\": \"in my arrogant opinion\",\n",
    "\"imnsho\": \"in my not so humble opinion\",\n",
    "\"imo\": \"in my opinion\",\n",
    "\"iow\": \"in other words\",\n",
    "\"ipn\": \"I’m posting naked\",\n",
    "\"irl\": \"in real life\",\n",
    "\"jk\": \"just kidding\",\n",
    "\"l8r\": \"later\",\n",
    "\"ld\": \"later, dude\",\n",
    "\"ldr\": \"long distance relationship\",\n",
    "\"llta\": \"lots and lots of thunderous applause\",\n",
    "\"lmao\": \"laugh my ass off\",\n",
    "\"lmirl\": \"let's meet in real life\",\n",
    "\"lol\": \"laugh out loud\",\n",
    "\"ltr\": \"longterm relationship\",\n",
    "\"lulab\": \"love you like a brother\",\n",
    "\"lulas\": \"love you like a sister\",\n",
    "\"luv\": \"love\",\n",
    "\"m/f\": \"male or female\",\n",
    "\"m8\": \"mate\",\n",
    "\"milf\": \"mother I would like to fuck\",\n",
    "\"oll\": \"online love\",\n",
    "\"omg\": \"oh my god\",\n",
    "\"otoh\": \"on the other hand\",\n",
    "\"pir\": \"parent in room\",\n",
    "\"ppl\": \"people\",\n",
    "\"r\": \"are\",\n",
    "\"rofl\": \"roll on the floor laughing\",\n",
    "\"rpg\": \"role playing games\",\n",
    "\"ru\": \"are you\",\n",
    "\"shid\": \"slaps head in disgust\",\n",
    "\"somy\": \"sick of me yet\",\n",
    "\"sot\": \"short of time\",\n",
    "\"thanx\": \"thanks\",\n",
    "\"thx\": \"thanks\",\n",
    "\"ttyl\": \"talk to you later\",\n",
    "\"u\": \"you\",\n",
    "\"ur\": \"you are\",\n",
    "\"uw\": \"you’re welcome\",\n",
    "\"wb\": \"welcome back\",\n",
    "\"wfm\": \"works for me\",\n",
    "\"wibni\": \"wouldn't it be nice if\",\n",
    "\"wtf\": \"what the fuck\",\n",
    "\"wtg\": \"way to go\",\n",
    "\"wtgp\": \"want to go private\",\n",
    "\"ym\": \"young man\",\n",
    "\"gr8\": \"great\",\n",
    "\"8yo\":\"eight year old\",\n",
    "\"brb\" : \"be right back\"\n",
    "}\n",
    "\n",
    "#Apply a lambda function to look up every word in the tweets and replace it with the full word\n",
    "\n",
    "#apply this to a new column so that we can see the difference\n",
    "df_train['clean_message'] = df_train['message'].apply(lambda x: lookup_dict(x,short_and_contractions))\n",
    "df_test['clean_message'] = df_test['message'].apply(lambda x: lookup_dict(x,short_and_contractions))\n",
    "df_train"
   ]
  },
  {
   "cell_type": "code",
   "execution_count": null,
   "metadata": {},
   "outputs": [],
   "source": [
    "def clean_text(text):\n",
    "    \"\"\"This function is to clean the data removing urls, punctuations, spaces, making text lowercase, removing 'rt', removing standalone numbers,\n",
    "    and removing single consonant letters that don't make sense to be alone.\n",
    "    \"\"\"\n",
    "\n",
    "    URL = r'http[s]?://(?:[A-Za-z]|[0-9]|[$-_@.&+]|[!*\\(\\),]|(?:%[0-9A-Fa-f][0-9A-Fa-f]))+'\n",
    "    text = re.sub(URL, '', text)\n",
    "\n",
    "    text = text.lower()  # Making text lowercase\n",
    "\n",
    "    text = re.sub(\"(\\.)|(\\;)|(\\:)|(\\!)|(\\')|(\\?)|(\\,)|(\\\")|(\\|)|(\\()|(\\))|(\\[)|(\\])|(\\%)|(\\$)|(\\>)|(\\<)|(\\{)|(\\})\", \"\", text)  # Removing all punctuation with no space\n",
    "\n",
    "    text = re.sub(\"(<br\\s/><br\\s/?)|(-)|(_)|(/)|(:).\", \" \", text)  # Removing all punctuation with a space\n",
    "\n",
    "    text = re.sub(r\"\\b\\d+\\b\", \"\", text)  # Removing standalone numbers\n",
    "\n",
    "    text = re.sub(\"\\\\s+\", \" \", text)  # Remove extra whitespace\n",
    "\n",
    "    text = re.sub(r\"U+FFFD \", ' ', text)  # Remove that funny diamond\n",
    "\n",
    "    text = text.lstrip()  # Removes whitespaces before the string\n",
    "\n",
    "    text = text.rstrip()  # Removes whitespaces after the string\n",
    "\n",
    "    text = re.sub(r'\\brt\\b', '', text)  # Removing the word 'rt' (assuming it's a separate word)\n",
    "\n",
    "    text = re.sub(r'\\b[bcdfghjklmnpqrstvwxyz]\\b', '', text)  # Removing single consonant letters\n",
    "\n",
    "    return text\n",
    "\n",
    "\n",
    "\n",
    "df_train['clean_message'] = df_train['clean_message'].apply(clean_text)\n",
    "\n",
    "df_test['clean_message'] = df_test['clean_message'].apply(clean_text)\n",
    "\n",
    "df_train\n"
   ]
  },
  {
   "cell_type": "code",
   "execution_count": null,
   "metadata": {},
   "outputs": [],
   "source": [
    "df_test"
   ]
  },
  {
   "cell_type": "code",
   "execution_count": null,
   "metadata": {},
   "outputs": [],
   "source": [
    "# removing punctuations on our training dataset\n",
    "df_train['clean_message'] = df_train['clean_message'].apply(lambda x: ''.join([l for l in x if l not in string.punctuation]))\n",
    "\n",
    "# removing punctuations on our testing dataset\n",
    "df_test['clean_message'] = df_test['clean_message'].apply(lambda x: ''.join([l for l in x if l not in string.punctuation]))\n",
    "\n",
    "df_train"
   ]
  },
  {
   "cell_type": "code",
   "execution_count": null,
   "metadata": {},
   "outputs": [],
   "source": [
    "#start by tokenizing the tweets\n",
    "tokeniser = TreebankWordTokenizer()\n",
    "\n",
    "# transforming the data using the Treebankword tokenizer\n",
    "df_train['tokenized'] = df_train['clean_message'].apply(tokeniser.tokenize)\n",
    "\n",
    "df_train\n"
   ]
  },
  {
   "cell_type": "markdown",
   "metadata": {},
   "source": [
    "### Lemmatising"
   ]
  },
  {
   "cell_type": "code",
   "execution_count": null,
   "metadata": {},
   "outputs": [],
   "source": [
    "# initialising our lemmatizer\n",
    "lemmatizer = WordNetLemmatizer()\n",
    "\n",
    "# applying lemmatization to the POS column\n",
    "df_train['lemmatized'] = df_train['tokenized'].apply(lambda x: [lemmatizer.lemmatize(word) for word in x])\n",
    "\n",
    "# joining the tokenised words after they have been lemmatized\n",
    "df_train['lemmatized'] = [' '.join(map(str, l)) for l in df_train['lemmatized']]\n",
    "\n",
    "df_train"
   ]
  },
  {
   "cell_type": "code",
   "execution_count": null,
   "metadata": {},
   "outputs": [],
   "source": [
    "# Removing words that has no relevance to the context (https, RT, CO)\n",
    "df_train['word_cloud'] = df_train['lemmatized'].str.replace('http\\S+|www.\\S+', '', case=False)\n",
    "\n",
    "# Removing common words which appear in all sentiments\n",
    "remove_words = ['climate', 'change', 'rt', 'global', 'warming', 'donald', 'trump','amp', 'realDonaldTrump', 's','aaa']\n",
    "\n",
    "# Function to remove common words listed above\n",
    "def remove_common_words(message):\n",
    "  pattern = re.compile(r'\\b(' + r'|'.join(remove_words) + r')\\b\\s*')\n",
    "  message = pattern.sub('', message)\n",
    "  return message\n",
    "\n",
    "df_train['word_cloud'] = df_train['word_cloud'].apply(remove_common_words)\n",
    "\n",
    "\n",
    "# Adding select words to stop words for better analysis on important word frequency\n",
    "stop = set(stopwords.words('english'))\n",
    "stop_words = [\"via\", \"co\", \"I\",'We','The'] + list(stop)\n",
    "\n",
    "# Removing stop words from the tweets\n",
    "df_train['word'] = df_train['word_cloud'].apply(lambda x: ' '.join([item for item in x.split() if item not in stop_words]))\n",
    "df_train['word'] = df_train['word'].str.replace(r'[^\\w\\s]+', '')\n",
    "\n",
    "# Separating the strings to a list of words\n",
    "word_list = [word for line in df_train['word'] for word in line.split()]\n",
    "\n",
    "# Creating a word frequency counter\n",
    "sns.set(style=\"darkgrid\")\n",
    "counts = Counter(word_list).most_common(15)\n",
    "counts_df = pd.DataFrame(counts)\n",
    "counts_df\n",
    "counts_df.columns = ['word', 'frequency']\n",
    "\n",
    "# Creating a word frequency plot\n",
    "fig, ax = plt.subplots(figsize = (9, 9))\n",
    "ax = sns.barplot(y=\"word\", x='frequency', ax = ax, data=counts_df, palette=\"hls\")\n",
    "plt.title('WORD FREQUENCY')\n",
    "#plt.savefig('wordcount_bar.png')"
   ]
  },
  {
   "cell_type": "code",
   "execution_count": null,
   "metadata": {},
   "outputs": [],
   "source": [
    "'''\n",
    "The distribution of classes in 'sentiment'\n",
    "1(reference class) has the highest distribution\n",
    "'''\n",
    "\n",
    "sns.countplot(x='sentiment', data=df_train)\n",
    "plt.title('Distribution of Sentiments')\n",
    "plt.show()"
   ]
  },
  {
   "cell_type": "markdown",
   "metadata": {},
   "source": [
    "Class Description\n",
    "\n",
    "2 News: the tweet links to factual news about climate change\n",
    "\n",
    "1 Pro: the tweet supports the belief of man-made climate change\n",
    "\n",
    "0 Neutral: the tweet neither supports nor refutes the belief of man-made climate change\n",
    "\n",
    "-1 Anti: the tweet does not believe in man-made climate change Variable definitions"
   ]
  },
  {
   "cell_type": "markdown",
   "metadata": {},
   "source": [
    "#### Tweet Data Analysis"
   ]
  },
  {
   "cell_type": "markdown",
   "metadata": {},
   "source": [
    "1. Average length of tweets\n",
    "\n",
    "\n",
    "It is interesting to look at the length of the tweets for each sentiment, which sentiment writes the longest or the shortest tweets."
   ]
  },
  {
   "cell_type": "code",
   "execution_count": null,
   "metadata": {},
   "outputs": [],
   "source": [
    "# Finding Number of Words per Tweet from the lemmatized words\n",
    "df_train[\"num_words\"] = df_train[\"lemmatized\"].apply(lambda x: len(str(x).split()))\n"
   ]
  },
  {
   "cell_type": "code",
   "execution_count": null,
   "metadata": {},
   "outputs": [],
   "source": [
    "fig_dims = (10, 6)\n",
    "fig, ax = plt.subplots(figsize=fig_dims)\n",
    "\n",
    "# plotting boxplot for the length of how long each tweet is per sentiment\n",
    "sns.boxplot(x=df_train['sentiment'], y=df_train['lemmatized'].str.len(), data=df_train, palette=(\"rainbow\"), ax=ax)\n",
    "\n",
    "# title of the boxplot\n",
    "plt.title('Length of characters in each tweet per sentiment')\n",
    "\n",
    "# showing the plot\n",
    "plt.show()"
   ]
  },
  {
   "cell_type": "markdown",
   "metadata": {},
   "source": [
    "2. Distribution of tweet length"
   ]
  },
  {
   "cell_type": "code",
   "execution_count": null,
   "metadata": {},
   "outputs": [],
   "source": [
    "fig_dims = (10, 6)\n",
    "fig, ax = plt.subplots(figsize=fig_dims)\n",
    "\n",
    "# plotting boxplot for the length of how long each tweet is per sentiment\n",
    "sns.boxplot(x='sentiment', y='num_words', data=df_train, palette=(\"hls\"))\n",
    "\n",
    "# title of the boxplot\n",
    "plt.title('Number of words in each tweet for each sentiment')\n",
    "\n",
    "# showing the plot\n",
    "plt.show()"
   ]
  },
  {
   "cell_type": "code",
   "execution_count": 129,
   "metadata": {},
   "outputs": [],
   "source": [
    "# loaded the data from the df file as a dataFrame\n",
    "df_train = pd.read_csv(\"train.csv\") \n",
    "df_test = pd.read_csv(\"test.csv\")"
   ]
  },
  {
   "cell_type": "code",
   "execution_count": 130,
   "metadata": {},
   "outputs": [
    {
     "data": {
      "text/html": [
       "<div>\n",
       "<style scoped>\n",
       "    .dataframe tbody tr th:only-of-type {\n",
       "        vertical-align: middle;\n",
       "    }\n",
       "\n",
       "    .dataframe tbody tr th {\n",
       "        vertical-align: top;\n",
       "    }\n",
       "\n",
       "    .dataframe thead th {\n",
       "        text-align: right;\n",
       "    }\n",
       "</style>\n",
       "<table border=\"1\" class=\"dataframe\">\n",
       "  <thead>\n",
       "    <tr style=\"text-align: right;\">\n",
       "      <th></th>\n",
       "      <th>sentiment</th>\n",
       "      <th>message</th>\n",
       "      <th>tweetid</th>\n",
       "    </tr>\n",
       "  </thead>\n",
       "  <tbody>\n",
       "    <tr>\n",
       "      <th>0</th>\n",
       "      <td>1</td>\n",
       "      <td>PolySciMajor EPA chief doesn't think carbon di...</td>\n",
       "      <td>625221</td>\n",
       "    </tr>\n",
       "    <tr>\n",
       "      <th>1</th>\n",
       "      <td>1</td>\n",
       "      <td>It's not like we lack evidence of anthropogeni...</td>\n",
       "      <td>126103</td>\n",
       "    </tr>\n",
       "    <tr>\n",
       "      <th>2</th>\n",
       "      <td>2</td>\n",
       "      <td>RT @RawStory: Researchers say we have three ye...</td>\n",
       "      <td>698562</td>\n",
       "    </tr>\n",
       "    <tr>\n",
       "      <th>3</th>\n",
       "      <td>1</td>\n",
       "      <td>#TodayinMaker# WIRED : 2016 was a pivotal year...</td>\n",
       "      <td>573736</td>\n",
       "    </tr>\n",
       "    <tr>\n",
       "      <th>4</th>\n",
       "      <td>1</td>\n",
       "      <td>RT @SoyNovioDeTodas: It's 2016, and a racist, ...</td>\n",
       "      <td>466954</td>\n",
       "    </tr>\n",
       "    <tr>\n",
       "      <th>5</th>\n",
       "      <td>1</td>\n",
       "      <td>Worth a read whether you do or don't believe i...</td>\n",
       "      <td>425577</td>\n",
       "    </tr>\n",
       "    <tr>\n",
       "      <th>6</th>\n",
       "      <td>1</td>\n",
       "      <td>RT @thenation: Mike Pence doesn’t believe in g...</td>\n",
       "      <td>294933</td>\n",
       "    </tr>\n",
       "    <tr>\n",
       "      <th>7</th>\n",
       "      <td>1</td>\n",
       "      <td>RT @makeandmendlife: Six big things we can ALL...</td>\n",
       "      <td>992717</td>\n",
       "    </tr>\n",
       "    <tr>\n",
       "      <th>8</th>\n",
       "      <td>1</td>\n",
       "      <td>@AceofSpadesHQ My 8yo nephew is inconsolable. ...</td>\n",
       "      <td>664510</td>\n",
       "    </tr>\n",
       "    <tr>\n",
       "      <th>9</th>\n",
       "      <td>1</td>\n",
       "      <td>RT @paigetweedy: no offense… but like… how do ...</td>\n",
       "      <td>260471</td>\n",
       "    </tr>\n",
       "  </tbody>\n",
       "</table>\n",
       "</div>"
      ],
      "text/plain": [
       "   sentiment                                            message  tweetid\n",
       "0          1  PolySciMajor EPA chief doesn't think carbon di...   625221\n",
       "1          1  It's not like we lack evidence of anthropogeni...   126103\n",
       "2          2  RT @RawStory: Researchers say we have three ye...   698562\n",
       "3          1  #TodayinMaker# WIRED : 2016 was a pivotal year...   573736\n",
       "4          1  RT @SoyNovioDeTodas: It's 2016, and a racist, ...   466954\n",
       "5          1  Worth a read whether you do or don't believe i...   425577\n",
       "6          1  RT @thenation: Mike Pence doesn’t believe in g...   294933\n",
       "7          1  RT @makeandmendlife: Six big things we can ALL...   992717\n",
       "8          1  @AceofSpadesHQ My 8yo nephew is inconsolable. ...   664510\n",
       "9          1  RT @paigetweedy: no offense… but like… how do ...   260471"
      ]
     },
     "execution_count": 130,
     "metadata": {},
     "output_type": "execute_result"
    }
   ],
   "source": [
    "df_train.head(10)"
   ]
  },
  {
   "cell_type": "markdown",
   "metadata": {},
   "source": [
    "#### Hashtag analysis\n",
    "\n",
    "\n",
    "Now lets look at the hashtags that were used in the tweets. This will give us an indication of which hashtags each sentiment frequently uses. This could possibly help us tell whether a tweet is Pro or Anti climate change.\n",
    "\n",
    "We previously extracted the hashtags before cleaning the 'message column', we will now use that dataframe of hashtags in our analysis."
   ]
  },
  {
   "cell_type": "code",
   "execution_count": null,
   "metadata": {},
   "outputs": [],
   "source": [
    "fig, axes = plt.subplots(ncols=2,\n",
    "                         nrows=2,\n",
    "                         figsize=(20, 15A))\n",
    "\n",
    "sns.barplot(data=pro,y=pro['hashtag'], x=pro['count'], ax=axes[0,0]).set(title = 'Pro climate change hashtags')\n",
    "\n",
    "sns.barplot(data=anti,y=anti['hashtag'], x=anti['count'], ax=axes[0,1]).set(title = 'Anti climate change hashtags')\n",
    "\n",
    "sns.barplot(data=neutral,y=neutral['hashtag'], x=neutral['count'], ax=axes[1,0]).set(title = 'Neutral climate change hashtags')\n",
    "\n",
    "sns.barplot(data=news,y=news['hashtag'], x=news['count'], ax=axes[1,1]).set(title = 'News climate change hashtags')\n",
    "\n",
    "plt.tight_layout()"
   ]
  },
  {
   "cell_type": "markdown",
   "metadata": {},
   "source": [
    "3. Common words and phrases"
   ]
  },
  {
   "cell_type": "code",
   "execution_count": null,
   "metadata": {},
   "outputs": [],
   "source": [
    "# Plotting word clouds\n",
    "news = df_train[df_train['sentiment'] == 'News']['lemmatized']\n",
    "pro = df_train[df_train['sentiment'] == 'Pro']['lemmatized']\n",
    "neutral =df_train[df_train['sentiment'] == 'Neutral']['lemmatized']\n",
    "anti = df_train[df_train['sentiment'] == 'Anti']['lemmatized']\n",
    "\n",
    "\n",
    "news = [word for line in news for word in line.split()]\n",
    "pro = [word for line in pro for word in line.split()]\n",
    "neutral = [word for line in neutral for word in line.split()]\n",
    "anti= [word for line in anti for word in line.split()]\n",
    "\n",
    "news = WordCloud(\n",
    "    background_color='black',\n",
    "    max_words=50,\n",
    "    max_font_size=100,\n",
    "    scale=5,\n",
    "    random_state=1,\n",
    "    collocations=False,\n",
    "    normalize_plurals=False\n",
    ").generate(' '.join(news))\n",
    "\n",
    "pro = WordCloud(\n",
    "    background_color='black',\n",
    "    max_words=50,\n",
    "    max_font_size=100,\n",
    "    scale=5,\n",
    "    random_state=1,\n",
    "    collocations=False,\n",
    "    normalize_plurals=False\n",
    ").generate(' '.join(pro))\n",
    "\n",
    "\n",
    "\n",
    "neutral = WordCloud(\n",
    "    background_color='black',\n",
    "    max_words=50,\n",
    "    max_font_size=100,\n",
    "    scale=5,\n",
    "    random_state=1,\n",
    "    collocations=False,\n",
    "    normalize_plurals=False\n",
    ").generate(' '.join(neutral))\n",
    "\n",
    "\n",
    "anti = WordCloud(\n",
    "    background_color='black',\n",
    "    max_words=50,\n",
    "    max_font_size=100,\n",
    "    scale=5,\n",
    "    random_state=1,\n",
    "    collocations=False,\n",
    "    normalize_plurals=False\n",
    ").generate(' '.join(anti))\n",
    "\n",
    "\n",
    "fig, axs = plt.subplots(2, 2, figsize = (20, 12))\n",
    "fig.tight_layout(pad = 0)\n",
    "\n",
    "axs[0, 0].imshow(news)\n",
    "axs[0, 0].set_title('Frequent words from news climate tweets', fontsize = 20)\n",
    "axs[0, 0].axis('off')\n",
    "\n",
    "axs[0, 1].imshow(pro)\n",
    "axs[0, 1].set_title('Frequent words from pro climate tweets', fontsize = 20)\n",
    "axs[0, 1].axis('off')\n",
    "\n",
    "\n",
    "axs[1, 0].imshow(anti)\n",
    "axs[1, 0].set_title('Frequent words from anti climate tweets', fontsize = 20)\n",
    "axs[1, 0].axis('off')\n",
    "\n",
    "axs[1, 1].imshow(neutral)\n",
    "axs[1, 1].set_title('Frequent words from neutral climate tweets', fontsize = 20)\n",
    "axs[1, 1].axis('off')\n",
    "#plt.savefig('joint_cloud.png')"
   ]
  },
  {
   "cell_type": "markdown",
   "metadata": {},
   "source": [
    "4. Bigram Analyis for each Sentiment"
   ]
  },
  {
   "cell_type": "code",
   "execution_count": null,
   "metadata": {},
   "outputs": [],
   "source": [
    "\n",
    "fig.suptitle('Bigrams in Tweets')\n",
    "stopwords = set(STOPWORDS)\n",
    "more_stopwords = {'https', 'https rt', 'rt'}  # Remove 'rt' from stopwords\n",
    "stopwords = stopwords.union(more_stopwords)\n",
    "\n",
    "# Create subplots for different sentiment categories\n",
    "plt.figure(figsize=(16, 12))\n",
    "\n",
    "# Plot for the Pro sentiment of the bigrams\n",
    "plt.subplot(2, 2, 1)\n",
    "bigram_d = list(bigrams([w for w in word_tokenize(' '.join(df_train.loc[df_train.sentiment == 'Pro', 'clean_message']).lower()) if\n",
    "                        (w not in stopwords) & (w.isalpha())]))\n",
    "d_fq = FreqDist(bg for bg in bigram_d)\n",
    "bgdf_d = pd.DataFrame.from_dict(d_fq, orient='index', columns=['count'])\n",
    "bgdf_d.index = bgdf_d.index.map(lambda x: ' '.join(x))\n",
    "bgdf_d = bgdf_d.sort_values('count', ascending=False)\n",
    "sns.barplot(x=bgdf_d.head(10)['count'], y=bgdf_d.index[:10], color='pink')\n",
    "plt.title('Pro Tweets')\n",
    "\n",
    "# Plot for the News sentiment of the bigrams\n",
    "plt.subplot(2, 2, 2)\n",
    "bigram_nd = list(bigrams([w for w in word_tokenize(' '.join(df_train.loc[df_train.sentiment == 'News', 'clean_message']).lower()) if\n",
    "                        (w not in stopwords) & (w.isalpha())]))\n",
    "nd_fq = FreqDist(bg for bg in bigram_nd)\n",
    "bgdf_nd = pd.DataFrame.from_dict(nd_fq, orient='index', columns=['count'])\n",
    "bgdf_nd.index = bgdf_nd.index.map(lambda x: ' '.join(x))\n",
    "bgdf_nd = bgdf_nd.sort_values('count', ascending=False)\n",
    "sns.barplot(x=bgdf_nd.head(10)['count'], y=bgdf_nd.index[:10], color='b')\n",
    "plt.title('News Tweets')\n",
    "\n",
    "# Plot for the Anti sentiment of the bigrams\n",
    "plt.subplot(2, 2, 3)\n",
    "bigram_nd = list(bigrams([w for w in word_tokenize(' '.join(df_train.loc[df_train.sentiment == 'Anti', 'clean_message']).lower()) if\n",
    "                        (w not in stopwords) & (w.isalpha())]))\n",
    "nd_fq = FreqDist(bg for bg in bigram_nd)\n",
    "bgdf_nd = pd.DataFrame.from_dict(nd_fq, orient='index', columns=['count'])\n",
    "bgdf_nd.index = bgdf_nd.index.map(lambda x: ' '.join(x))\n",
    "bgdf_nd = bgdf_nd.sort_values('count', ascending=False)\n",
    "sns.barplot(x=bgdf_nd.head(10)['count'], y=bgdf_nd.index[:10], color='c')\n",
    "plt.title('Anti Tweets')\n",
    "\n",
    "# Plot for the Neutral sentiment of the bigrams\n",
    "plt.subplot(2, 2, 4)\n",
    "bigram_nd = list(bigrams([w for w in word_tokenize(' '.join(df_train.loc[df_train.sentiment == 'Neutral', 'clean_message']).lower()) if\n",
    "                        (w not in stopwords) & (w.isalpha())]))\n",
    "nd_fq = FreqDist(bg for bg in bigram_nd)\n",
    "bgdf_nd = pd.DataFrame.from_dict(nd_fq, orient='index', columns=['count'])\n",
    "bgdf_nd.index = bgdf_nd.index.map(lambda x: ' '.join(x))\n",
    "bgdf_nd = bgdf_nd.sort_values('count', ascending=False)\n",
    "sns.barplot(x=bgdf_nd.head(10)['count'], y=bgdf_nd.index[:10], color='g')\n",
    "plt.title('Neutral Tweets')\n",
    "\n",
    "plt.tight_layout()  # To ensure proper spacing between subplots\n",
    "plt.show()"
   ]
  },
  {
   "cell_type": "code",
   "execution_count": null,
   "metadata": {},
   "outputs": [],
   "source": [
    "from nltk.util import ngrams"
   ]
  },
  {
   "cell_type": "code",
   "execution_count": null,
   "metadata": {},
   "outputs": [],
   "source": [
    "# Make a set of stop words\n",
    "fig.suptitle('Trigrams in Tweets')\n",
    "stopwords = set(STOPWORDS)\n",
    "more_stopwords = {'https', 'https rt', 'rt'}  # Remove 'rt' from stopwords\n",
    "stopwords = stopwords.union(more_stopwords)\n",
    "\n",
    "# Create subplots for different sentiment categories\n",
    "plt.figure(figsize=(16, 12))\n",
    "\n",
    "# Function to extract trigrams from text\n",
    "def extract_trigrams(text):\n",
    "    tokens = [w for w in word_tokenize(text.lower()) if (w not in stopwords) and (w.isalpha())]\n",
    "    trigram = list(ngrams(tokens, 3))\n",
    "    return trigram\n",
    "\n",
    "# Plot for the Pro sentiment of the trigrams\n",
    "plt.subplot(2, 2, 1)\n",
    "trigrams_d = extract_trigrams(' '.join(df_train.loc[df_train.sentiment == 'Pro', 'clean_message']))\n",
    "d_fq = FreqDist(trigram for trigram in trigrams_d)\n",
    "trigram_df_d = pd.DataFrame.from_dict(d_fq, orient='index', columns=['count'])\n",
    "trigram_df_d.index = trigram_df_d.index.map(lambda x: ' '.join(x))\n",
    "trigram_df_d = trigram_df_d.sort_values('count', ascending=False)\n",
    "sns.barplot(x=trigram_df_d.head(10)['count'], y=trigram_df_d.index[:10], color='pink')\n",
    "plt.title('Pro Tweets')\n",
    "\n",
    "# Plot for the News sentiment of the trigrams\n",
    "plt.subplot(2, 2, 2)\n",
    "trigrams_nd = extract_trigrams(' '.join(df_train.loc[df_train.sentiment == 'News', 'clean_message']))\n",
    "nd_fq = FreqDist(trigram for trigram in trigrams_nd)\n",
    "trigram_df_nd = pd.DataFrame.from_dict(nd_fq, orient='index', columns=['count'])\n",
    "trigram_df_nd.index = trigram_df_nd.index.map(lambda x: ' '.join(x))\n",
    "trigram_df_nd = trigram_df_nd.sort_values('count', ascending=False)\n",
    "sns.barplot(x=trigram_df_nd.head(10)['count'], y=trigram_df_nd.index[:10], color='b')\n",
    "plt.title('News Tweets')\n",
    "\n",
    "# Plot for the Anti sentiment of the trigrams\n",
    "plt.subplot(2, 2, 3)\n",
    "trigrams_a = extract_trigrams(' '.join(df_train.loc[df_train.sentiment == 'Anti', 'clean_message']))\n",
    "nd_fq = FreqDist(trigram for trigram in trigrams_a)\n",
    "trigram_df_a = pd.DataFrame.from_dict(d_fq, orient='index', columns=['count'])\n",
    "trigram_df_a.index = trigram_df_a.index.map(lambda x: ' '.join(x))\n",
    "trigram_df_a = trigram_df_a.sort_values('count', ascending=False)\n",
    "sns.barplot(x=trigram_df_a.head(10)['count'], y=trigram_df_a.index[:10], color='c')\n",
    "plt.title('Anti Tweets')\n",
    "\n",
    "# Plot for the Neutral sentiment of the trigrams\n",
    "plt.subplot(2, 2, 4)\n",
    "trigrams_n = extract_trigrams(' '.join(df_train.loc[df_train.sentiment == 'Neutral', 'clean_message']))\n",
    "nd_fq = FreqDist(trigram for trigram in trigrams_n)\n",
    "trigram_df_n = pd.DataFrame.from_dict(nd_fq, orient='index', columns=['count'])\n",
    "trigram_df_n.index = trigram_df_n.index.map(lambda x: ' '.join(x))\n",
    "trigram_df_n = trigram_df_n.sort_values('count', ascending=False)\n",
    "sns.barplot(x=trigram_df_n.head(10)['count'], y=trigram_df_n.index[:10], color='g')\n",
    "plt.title('Neutral Tweets')\n",
    "\n",
    "plt.tight_layout()  # To ensure proper spacing between subplots\n",
    "plt.show()"
   ]
  },
  {
   "cell_type": "markdown",
   "metadata": {},
   "source": [
    "  ##### Putting the mentions in their respective list so we can plot some graphs later"
   ]
  },
  {
   "cell_type": "code",

  },
  {
   "cell_type": "markdown",
   "metadata": {},

  },
  {
   "cell_type": "markdown",
   "id": "dec933f0",
   "metadata": {},
   "source": [
    "<a id=\"four\"></a>\n",
    "## 4. Data Engineering\n",
    "<a class=\"anchor\" id=\"1.1\"></a>\n",
    "<a href=#cont>Back to Table of Contents</a>\n",
    "\n",
    "---\n",
    "    \n",
    "| ⚡ Description: Data engineering ⚡ |\n",
    "| :--------------------------- |\n",
    "| Clean the dataset, and possibly create new features - as identified in the EDA phase. |\n",
    "\n",
    "---"
   ]
  },
  {
   "cell_type": "code",

   ]
  },
  {
   "cell_type": "code",

   "execution_count": 17,
   "id": "89a55924",
   "metadata": {},
   "outputs": [],
   "source": [
    "def preprocessing(text):\n",
     
    "    # Remove mentions (@user), URLs, and special characters\n",
    "    text = re.sub(r'@[A-Za-z0-9_]+', '', text)  # Remove mentions\n",
    "    text = re.sub(r'http\\S+', '', text)  # Remove URLs\n",
    "    text = re.sub(r'[^A-Za-z\\s]', '', text)  # Remove special characters\n",

    "\n",
    "    # Convert to lowercase\n",
    "    text = text.lower()\n",
    "\n",
    "    # Remove stop words\n",
    "    stop_words = set(stopwords.words('english'))\n",
    "    filtered_text = [word for word in text.split() if word.lower() not in stop_words]\n",
    "\n",
    "    # Join the filtered words back into a sentence\n",
    "    cleaned_message = ' '.join(filtered_text)\n",
    "\n",
    "    return cleaned_message\n",
    "\n",
    "# Apply the preprocessing function to the 'message' column\n",
    "df_combined['processed_message'] = df_combined['message'].apply(preprocessing)\n"
   ]
  },
  {
   "cell_type": "code",
   "execution_count": 18,
   "id": "7e6f1e37",
   "metadata": {},
   "outputs": [],
   "source": [
    "def tokenize(text):\n",
    "    # Tokenization\n",
    "    tokens = word_tokenize(text)\n",
    "    return tokens\n",
    "# Apply the tokenize function to the 'processed_message' column\n",
    "df_combined['tokens'] = df_combined['processed_message'].apply(tokenize)"
   ]
  },
  {
   "cell_type": "code",

   "execution_count": 19,
   "id": "ea44b7c2",
   "metadata": {},
   "outputs": [],
   "source": [
    "#Lemma\n",
    "def lemmatize(tokens):\n",
    "    # Lemmatization\n",
    "    lemmatizer = WordNetLemmatizer()\n",
    "    lemmatized_tokens = [lemmatizer.lemmatize(token) for token in tokens]\n",
    "    return lemmatized_tokens\n",
    "\n",
    "# Apply the lemmatize function to the 'tokens' column\n",
    "df_combined['lemma'] = df_combined['tokens'].apply(lemmatize)\n"

   ]
  },
  {
   "cell_type": "code",

   "execution_count": 20,
   "id": "dc64852b",
   "metadata": {},
   "outputs": [],
   "source": [
    "df_train = df_combined.iloc[:len(df_train)]\n",
    "df_test = df_combined.iloc[len(df_train):]"
   ]
  },
  {
   "cell_type": "code",


   "execution_count": 21,
   "id": "a5c605ea",
   "metadata": {},
   "outputs": [
    {
     "data": {
      "text/html": [
       "<div>\n",
       "<style scoped>\n",
       "    .dataframe tbody tr th:only-of-type {\n",
       "        vertical-align: middle;\n",
       "    }\n",
       "\n",
       "    .dataframe tbody tr th {\n",
       "        vertical-align: top;\n",
       "    }\n",
       "\n",
       "    .dataframe thead th {\n",
       "        text-align: right;\n",
       "    }\n",
       "</style>\n",
       "<table border=\"1\" class=\"dataframe\">\n",
       "  <thead>\n",
       "    <tr style=\"text-align: right;\">\n",
       "      <th></th>\n",
       "      <th>sentiment</th>\n",
       "      <th>message</th>\n",
       "      <th>tweetid</th>\n",
       "      <th>tweet_length</th>\n",

       "      <th>processed_message</th>\n",
       "      <th>tokens</th>\n",
       "      <th>lemma</th>\n",
       "    </tr>\n",
       "  </thead>\n",
       "  <tbody>\n",
       "    <tr>\n",
       "      <th>0</th>\n",

       "      <td>1.0</td>\n",
       "      <td>PolySciMajor EPA chief doesn't think carbon di...</td>\n",
       "      <td>625221</td>\n",
       "      <td>140.0</td>\n",
       "      <td>polyscimajor epa chief doesnt think carbon dio...</td>\n",
       "      <td>[polyscimajor, epa, chief, doesnt, think, carb...</td>\n",
       "      <td>[polyscimajor, epa, chief, doesnt, think, carb...</td>\n",
       "    </tr>\n",
       "    <tr>\n",
       "      <th>1</th>\n",
       "      <td>1.0</td>\n",
       "      <td>It's not like we lack evidence of anthropogeni...</td>\n",
       "      <td>126103</td>\n",
       "      <td>62.0</td>\n",
       "      <td>like lack evidence anthropogenic global warming</td>\n",
       "      <td>[like, lack, evidence, anthropogenic, global, ...</td>\n",
       "      <td>[like, lack, evidence, anthropogenic, global, ...</td>\n",
       "    </tr>\n",
       "    <tr>\n",
       "      <th>2</th>\n",
       "      <td>2.0</td>\n",
       "      <td>RT @RawStory: Researchers say we have three ye...</td>\n",
       "      <td>698562</td>\n",
       "      <td>140.0</td>\n",
       "      <td>rt researchers say three years act climate cha...</td>\n",
       "      <td>[rt, researchers, say, three, years, act, clim...</td>\n",
       "      <td>[rt, researcher, say, three, year, act, climat...</td>\n",
       "    </tr>\n",
       "    <tr>\n",
       "      <th>3</th>\n",
       "      <td>1.0</td>\n",
       "      <td>#TodayinMaker# WIRED : 2016 was a pivotal year...</td>\n",
       "      <td>573736</td>\n",
       "      <td>99.0</td>\n",
       "      <td>todayinmaker wired pivotal year war climate ch...</td>\n",
       "      <td>[todayinmaker, wired, pivotal, year, war, clim...</td>\n",
       "      <td>[todayinmaker, wired, pivotal, year, war, clim...</td>\n",
       "    </tr>\n",
       "    <tr>\n",
       "      <th>4</th>\n",
       "      <td>1.0</td>\n",
       "      <td>RT @SoyNovioDeTodas: It's 2016, and a racist, ...</td>\n",
       "      <td>466954</td>\n",
       "      <td>122.0</td>\n",
       "      <td>rt racist sexist climate change denying bigot ...</td>\n",
       "      <td>[rt, racist, sexist, climate, change, denying,...</td>\n",
       "      <td>[rt, racist, sexist, climate, change, denying,...</td>\n",
       "    </tr>\n",
       "    <tr>\n",
       "      <th>...</th>\n",
       "      <td>...</td>\n",
       "      <td>...</td>\n",
       "      <td>...</td>\n",
       "      <td>...</td>\n",
       "      <td>...</td>\n",

       "      <td>...</td>\n",
       "      <td>...</td>\n",
       "    </tr>\n",
       "    <tr>\n",
       "      <th>15814</th>\n",
       "      <td>1.0</td>\n",
       "      <td>RT @ezlusztig: They took down the material on ...</td>\n",
       "      <td>22001</td>\n",
       "      <td>140.0</td>\n",
       "      <td>rt took material global warming lgbt rights he...</td>\n",
       "      <td>[rt, took, material, global, warming, lgbt, ri...</td>\n",
       "      <td>[rt, took, material, global, warming, lgbt, ri...</td>\n",
       "    </tr>\n",
       "    <tr>\n",
       "      <th>15815</th>\n",
       "      <td>2.0</td>\n",
       "      <td>RT @washingtonpost: How climate change could b...</td>\n",
       "      <td>17856</td>\n",
       "      <td>119.0</td>\n",
       "      <td>rt climate change could breaking millionyearol...</td>\n",
       "      <td>[rt, climate, change, could, breaking, million...</td>\n",
       "      <td>[rt, climate, change, could, breaking, million...</td>\n",
       "    </tr>\n",
       "    <tr>\n",
       "      <th>15816</th>\n",
       "      <td>0.0</td>\n",
       "      <td>notiven: RT: nytimesworld :What does Trump act...</td>\n",
       "      <td>384248</td>\n",
       "      <td>133.0</td>\n",
       "      <td>notiven rt nytimesworld trump actually believe...</td>\n",
       "      <td>[notiven, rt, nytimesworld, trump, actually, b...</td>\n",
       "      <td>[notiven, rt, nytimesworld, trump, actually, b...</td>\n",
       "    </tr>\n",
       "    <tr>\n",
       "      <th>15817</th>\n",
       "      <td>-1.0</td>\n",
       "      <td>RT @sara8smiles: Hey liberals the climate chan...</td>\n",
       "      <td>819732</td>\n",
       "      <td>129.0</td>\n",
       "      <td>rt hey liberals climate change crap hoax ties ...</td>\n",
       "      <td>[rt, hey, liberals, climate, change, crap, hoa...</td>\n",
       "      <td>[rt, hey, liberal, climate, change, crap, hoax...</td>\n",
       "    </tr>\n",
       "    <tr>\n",
       "      <th>15818</th>\n",
       "      <td>0.0</td>\n",
       "      <td>RT @Chet_Cannon: .@kurteichenwald's 'climate c...</td>\n",
       "      <td>806319</td>\n",
       "      <td>102.0</td>\n",
       "      <td>rt climate change equation screenshots</td>\n",
       "      <td>[rt, climate, change, equation, screenshots]</td>\n",
       "      <td>[rt, climate, change, equation, screenshots]</td>\n",
       "    </tr>\n",
       "  </tbody>\n",
       "</table>\n",
       "<p>15819 rows × 7 columns</p>\n",
       "</div>"
      ],
      "text/plain": [
       "       sentiment                                            message  tweetid  \\\n",

       "0            1.0  PolySciMajor EPA chief doesn't think carbon di...   625221   \n",
       "1            1.0  It's not like we lack evidence of anthropogeni...   126103   \n",
       "2            2.0  RT @RawStory: Researchers say we have three ye...   698562   \n",
       "3            1.0  #TodayinMaker# WIRED : 2016 was a pivotal year...   573736   \n",
       "4            1.0  RT @SoyNovioDeTodas: It's 2016, and a racist, ...   466954   \n",
       "...          ...                                                ...      ...   \n",
       "15814        1.0  RT @ezlusztig: They took down the material on ...    22001   \n",
       "15815        2.0  RT @washingtonpost: How climate change could b...    17856   \n",
       "15816        0.0  notiven: RT: nytimesworld :What does Trump act...   384248   \n",
       "15817       -1.0  RT @sara8smiles: Hey liberals the climate chan...   819732   \n",
       "15818        0.0  RT @Chet_Cannon: .@kurteichenwald's 'climate c...   806319   \n",
       "\n",
       "       tweet_length                                  processed_message  \\\n",
       "0             140.0  polyscimajor epa chief doesnt think carbon dio...   \n",
       "1              62.0    like lack evidence anthropogenic global warming   \n",
       "2             140.0  rt researchers say three years act climate cha...   \n",
       "3              99.0  todayinmaker wired pivotal year war climate ch...   \n",
       "4             122.0  rt racist sexist climate change denying bigot ...   \n",
       "...             ...                                                ...   \n",
       "15814         140.0  rt took material global warming lgbt rights he...   \n",
       "15815         119.0  rt climate change could breaking millionyearol...   \n",
       "15816         133.0  notiven rt nytimesworld trump actually believe...   \n",
       "15817         129.0  rt hey liberals climate change crap hoax ties ...   \n",
       "15818         102.0             rt climate change equation screenshots   \n",
       "\n",
       "                                                  tokens  \\\n",
       "0      [polyscimajor, epa, chief, doesnt, think, carb...   \n",
       "1      [like, lack, evidence, anthropogenic, global, ...   \n",
       "2      [rt, researchers, say, three, years, act, clim...   \n",
       "3      [todayinmaker, wired, pivotal, year, war, clim...   \n",
       "4      [rt, racist, sexist, climate, change, denying,...   \n",
       "...                                                  ...   \n",
       "15814  [rt, took, material, global, warming, lgbt, ri...   \n",
       "15815  [rt, climate, change, could, breaking, million...   \n",
       "15816  [notiven, rt, nytimesworld, trump, actually, b...   \n",
       "15817  [rt, hey, liberals, climate, change, crap, hoa...   \n",
       "15818       [rt, climate, change, equation, screenshots]   \n",
       "\n",
       "                                                   lemma  \n",
       "0      [polyscimajor, epa, chief, doesnt, think, carb...  \n",
       "1      [like, lack, evidence, anthropogenic, global, ...  \n",
       "2      [rt, researcher, say, three, year, act, climat...  \n",
       "3      [todayinmaker, wired, pivotal, year, war, clim...  \n",
       "4      [rt, racist, sexist, climate, change, denying,...  \n",
       "...                                                  ...  \n",
       "15814  [rt, took, material, global, warming, lgbt, ri...  \n",
       "15815  [rt, climate, change, could, breaking, million...  \n",
       "15816  [notiven, rt, nytimesworld, trump, actually, b...  \n",
       "15817  [rt, hey, liberal, climate, change, crap, hoax...  \n",
       "15818       [rt, climate, change, equation, screenshots]  \n",
       "\n",
       "[15819 rows x 7 columns]"
      ]
     },
     "execution_count": 21,
     "metadata": {},
     "output_type": "execute_result"
    }
   ],
   "source": [
    "df_train"
   ]
  },
  {
   "cell_type": "code",

   "execution_count": 22,
   "id": "4b6b5d49",
   "metadata": {},
   "outputs": [
    {
     "data": {
      "text/html": [
       "<div>\n",
       "<style scoped>\n",
       "    .dataframe tbody tr th:only-of-type {\n",
       "        vertical-align: middle;\n",
       "    }\n",
       "\n",
       "    .dataframe tbody tr th {\n",
       "        vertical-align: top;\n",
       "    }\n",
       "\n",
       "    .dataframe thead th {\n",
       "        text-align: right;\n",
       "    }\n",
       "</style>\n",
       "<table border=\"1\" class=\"dataframe\">\n",
       "  <thead>\n",
       "    <tr style=\"text-align: right;\">\n",
       "      <th></th>\n",
       "      <th>sentiment</th>\n",
       "      <th>message</th>\n",
       "      <th>tweetid</th>\n",
       "      <th>tweet_length</th>\n",

       "      <th>processed_message</th>\n",
       "      <th>tokens</th>\n",
       "      <th>lemma</th>\n",
       "    </tr>\n",
       "  </thead>\n",
       "  <tbody>\n",
       "    <tr>\n",

       "      <th>15819</th>\n",
       "      <td>NaN</td>\n",
       "      <td>Europe will now be looking to China to make su...</td>\n",
       "      <td>169760</td>\n",
       "      <td>NaN</td>\n",
       "      <td>europe looking china make sure alone fighting ...</td>\n",
       "      <td>[europe, looking, china, make, sure, alone, fi...</td>\n",
       "      <td>[europe, looking, china, make, sure, alone, fi...</td>\n",
       "    </tr>\n",
       "    <tr>\n",
       "      <th>15820</th>\n",
       "      <td>NaN</td>\n",
       "      <td>Combine this with the polling of staffers re c...</td>\n",
       "      <td>35326</td>\n",
       "      <td>NaN</td>\n",
       "      <td>combine polling staffers climate change womens...</td>\n",
       "      <td>[combine, polling, staffers, climate, change, ...</td>\n",
       "      <td>[combine, polling, staffer, climate, change, w...</td>\n",
       "    </tr>\n",
       "    <tr>\n",
       "      <th>15821</th>\n",
       "      <td>NaN</td>\n",
       "      <td>The scary, unimpeachable evidence that climate...</td>\n",
       "      <td>224985</td>\n",
       "      <td>NaN</td>\n",
       "      <td>scary unimpeachable evidence climate change al...</td>\n",
       "      <td>[scary, unimpeachable, evidence, climate, chan...</td>\n",
       "      <td>[scary, unimpeachable, evidence, climate, chan...</td>\n",
       "    </tr>\n",
       "    <tr>\n",
       "      <th>15822</th>\n",
       "      <td>NaN</td>\n",
       "      <td>@Karoli @morgfair @OsborneInk @dailykos \\r\\nPu...</td>\n",
       "      <td>476263</td>\n",
       "      <td>NaN</td>\n",
       "      <td>putin got jill trump doesnt believe climate ch...</td>\n",
       "      <td>[putin, got, jill, trump, doesnt, believe, cli...</td>\n",
       "      <td>[putin, got, jill, trump, doesnt, believe, cli...</td>\n",
       "    </tr>\n",
       "    <tr>\n",
       "      <th>15823</th>\n",
       "      <td>NaN</td>\n",
       "      <td>RT @FakeWillMoore: 'Female orgasms cause globa...</td>\n",
       "      <td>872928</td>\n",
       "      <td>NaN</td>\n",
       "      <td>rt female orgasms cause global warming sarcast...</td>\n",
       "      <td>[rt, female, orgasms, cause, global, warming, ...</td>\n",
       "      <td>[rt, female, orgasm, cause, global, warming, s...</td>\n",
       "    </tr>\n",
       "    <tr>\n",
       "      <th>...</th>\n",
       "      <td>...</td>\n",
       "      <td>...</td>\n",
       "      <td>...</td>\n",
       "      <td>...</td>\n",
       "      <td>...</td>\n",

       "      <td>...</td>\n",
       "      <td>...</td>\n",
       "    </tr>\n",
       "    <tr>\n",
       "      <th>26360</th>\n",
       "      <td>NaN</td>\n",
       "      <td>RT @BrittanyBohrer: Brb, writing a poem about ...</td>\n",
       "      <td>895714</td>\n",
       "      <td>NaN</td>\n",
       "      <td>rt brb writing poem climate change climatechan...</td>\n",
       "      <td>[rt, brb, writing, poem, climate, change, clim...</td>\n",
       "      <td>[rt, brb, writing, poem, climate, change, clim...</td>\n",
       "    </tr>\n",
       "    <tr>\n",
       "      <th>26361</th>\n",
       "      <td>NaN</td>\n",
       "      <td>2016: the year climate change came home: Durin...</td>\n",
       "      <td>875167</td>\n",
       "      <td>NaN</td>\n",
       "      <td>year climate change came home hottest year rec...</td>\n",
       "      <td>[year, climate, change, came, home, hottest, y...</td>\n",
       "      <td>[year, climate, change, came, home, hottest, y...</td>\n",
       "    </tr>\n",
       "    <tr>\n",
       "      <th>26362</th>\n",
       "      <td>NaN</td>\n",
       "      <td>RT @loop_vanuatu: Pacific countries positive a...</td>\n",
       "      <td>78329</td>\n",
       "      <td>NaN</td>\n",
       "      <td>rt pacific countries positive fiji leading glo...</td>\n",
       "      <td>[rt, pacific, countries, positive, fiji, leadi...</td>\n",
       "      <td>[rt, pacific, country, positive, fiji, leading...</td>\n",
       "    </tr>\n",
       "    <tr>\n",
       "      <th>26363</th>\n",
       "      <td>NaN</td>\n",
       "      <td>RT @xanria_00018: You’re so hot, you must be t...</td>\n",
       "      <td>867455</td>\n",
       "      <td>NaN</td>\n",
       "      <td>rt youre hot must cause global warming aldubla...</td>\n",
       "      <td>[rt, youre, hot, must, cause, global, warming,...</td>\n",
       "      <td>[rt, youre, hot, must, cause, global, warming,...</td>\n",
       "    </tr>\n",
       "    <tr>\n",
       "      <th>26364</th>\n",
       "      <td>NaN</td>\n",
       "      <td>RT @chloebalaoing: climate change is a global ...</td>\n",
       "      <td>470892</td>\n",
       "      <td>NaN</td>\n",
       "      <td>rt climate change global issue thats getting w...</td>\n",
       "      <td>[rt, climate, change, global, issue, thats, ge...</td>\n",
       "      <td>[rt, climate, change, global, issue, thats, ge...</td>\n",
       "    </tr>\n",
       "  </tbody>\n",
       "</table>\n",
       "<p>10546 rows × 7 columns</p>\n",
       "</div>"
      ],
      "text/plain": [
       "       sentiment                                            message  tweetid  \\\n",

       "15819        NaN  Europe will now be looking to China to make su...   169760   \n",
       "15820        NaN  Combine this with the polling of staffers re c...    35326   \n",
       "15821        NaN  The scary, unimpeachable evidence that climate...   224985   \n",
       "15822        NaN  @Karoli @morgfair @OsborneInk @dailykos \\r\\nPu...   476263   \n",
       "15823        NaN  RT @FakeWillMoore: 'Female orgasms cause globa...   872928   \n",
       "...          ...                                                ...      ...   \n",
       "26360        NaN  RT @BrittanyBohrer: Brb, writing a poem about ...   895714   \n",
       "26361        NaN  2016: the year climate change came home: Durin...   875167   \n",
       "26362        NaN  RT @loop_vanuatu: Pacific countries positive a...    78329   \n",
       "26363        NaN  RT @xanria_00018: You’re so hot, you must be t...   867455   \n",
       "26364        NaN  RT @chloebalaoing: climate change is a global ...   470892   \n",
       "\n",
       "       tweet_length                                  processed_message  \\\n",
       "15819           NaN  europe looking china make sure alone fighting ...   \n",
       "15820           NaN  combine polling staffers climate change womens...   \n",
       "15821           NaN  scary unimpeachable evidence climate change al...   \n",
       "15822           NaN  putin got jill trump doesnt believe climate ch...   \n",
       "15823           NaN  rt female orgasms cause global warming sarcast...   \n",
       "...             ...                                                ...   \n",
       "26360           NaN  rt brb writing poem climate change climatechan...   \n",
       "26361           NaN  year climate change came home hottest year rec...   \n",
       "26362           NaN  rt pacific countries positive fiji leading glo...   \n",
       "26363           NaN  rt youre hot must cause global warming aldubla...   \n",
       "26364           NaN  rt climate change global issue thats getting w...   \n",
       "\n",
       "                                                  tokens  \\\n",
       "15819  [europe, looking, china, make, sure, alone, fi...   \n",
       "15820  [combine, polling, staffers, climate, change, ...   \n",
       "15821  [scary, unimpeachable, evidence, climate, chan...   \n",
       "15822  [putin, got, jill, trump, doesnt, believe, cli...   \n",
       "15823  [rt, female, orgasms, cause, global, warming, ...   \n",
       "...                                                  ...   \n",
       "26360  [rt, brb, writing, poem, climate, change, clim...   \n",
       "26361  [year, climate, change, came, home, hottest, y...   \n",
       "26362  [rt, pacific, countries, positive, fiji, leadi...   \n",
       "26363  [rt, youre, hot, must, cause, global, warming,...   \n",
       "26364  [rt, climate, change, global, issue, thats, ge...   \n",
       "\n",
       "                                                   lemma  \n",
       "15819  [europe, looking, china, make, sure, alone, fi...  \n",
       "15820  [combine, polling, staffer, climate, change, w...  \n",
       "15821  [scary, unimpeachable, evidence, climate, chan...  \n",
       "15822  [putin, got, jill, trump, doesnt, believe, cli...  \n",
       "15823  [rt, female, orgasm, cause, global, warming, s...  \n",
       "...                                                  ...  \n",
       "26360  [rt, brb, writing, poem, climate, change, clim...  \n",
       "26361  [year, climate, change, came, home, hottest, y...  \n",
       "26362  [rt, pacific, country, positive, fiji, leading...  \n",
       "26363  [rt, youre, hot, must, cause, global, warming,...  \n",
       "26364  [rt, climate, change, global, issue, thats, ge...  \n",
       "\n",
       "[10546 rows x 7 columns]"
      ]
     },
     "execution_count": 22,
     "metadata": {},
     "output_type": "execute_result"
    }
   ],
   "source": [

   ]
  },
  {
   "cell_type": "markdown",
   "id": "f4178766",
   "metadata": {},
   "source": [
    "<a id=\"five\"></a>\n",
    "## 5. Modelling\n",
    "<a class=\"anchor\" id=\"1.1\"></a>\n",
    "<a href=#cont>Back to Table of Contents</a>\n",
    "\n",
    "---\n",
    "    \n",
    "| ⚡ Description: Modelling ⚡ |\n",
    "| :--------------------------- |\n",
    "| Create one or more classification models that are able to accurately predict |\n",
    "\n",
    "---"
   ]
  },
  {
   "cell_type": "code",

    "X_train_tfidf = tfidf_vectorizer.fit_transform(X_train)\n",
    "X_test_tfidf = tfidf_vectorizer.transform(X_test)"
   ]
  },
  {
   "cell_type": "code",

   "execution_count": 26,
   "id": "e12ce93f",
   "metadata": {},
   "outputs": [
    {
     "name": "stdout",
     "output_type": "stream",
     "text": [
      "Accuracy: 0.7338811630847029\n",
      "Classification Report:\n",
      "              precision    recall  f1-score   support\n",
      "\n",
      "        -1.0       0.88      0.28      0.42       278\n",
      "         0.0       0.76      0.31      0.44       425\n",
      "         1.0       0.71      0.93      0.81      1755\n",
      "         2.0       0.80      0.68      0.73       706\n",
      "\n",
      "    accuracy                           0.73      3164\n",
      "   macro avg       0.79      0.55      0.60      3164\n",
      "weighted avg       0.75      0.73      0.71      3164\n",
      "\n"
     ]
    }
   ],
   "source": [
    "# Train the SVM classifier\n",
    "svm_classifier = SVC(kernel='rbf', random_state=42)\n",
    "svm_classifier.fit(X_train_tfidf, y_train)\n",
    "\n",
    "# Make predictions on the test set\n",
    "predictions = svm_classifier.predict(X_test_tfidf)\n",
    "\n",
    "# Evaluate the model\n",
    "accuracy = accuracy_score(y_test, predictions)\n",
    "report = classification_report(y_test, predictions)\n",
    "\n",
    "print(f\"Accuracy: {accuracy}\")\n",
    "print(\"Classification Report:\")\n",
    "print(report)\n"
   ]
  },
  {
   "cell_type": "code",

   "execution_count": 27,
   "id": "b5a4fa64",
   "metadata": {},
   "outputs": [
    {
     "name": "stdout",
     "output_type": "stream",
     "text": [
      "Number of Rows: 10546\n",
      "Accuracy: 0.7338811630847029\n",
      "Classification Report:\n",
      "              precision    recall  f1-score   support\n",
      "\n",
      "        -1.0       0.88      0.28      0.42       278\n",
      "         0.0       0.76      0.31      0.44       425\n",
      "         1.0       0.71      0.93      0.81      1755\n",
      "         2.0       0.80      0.68      0.73       706\n",
      "\n",
      "    accuracy                           0.73      3164\n",
      "   macro avg       0.79      0.55      0.60      3164\n",
      "weighted avg       0.75      0.73      0.71      3164\n",
      "\n"
     ]
    }
   ],
   "source": [

    "# Assuming df_test is your test DataFrame with 'tweetid' and 'lemma' columns\n",
    "X_test_tfidf = tfidf_vectorizer.transform(df_test['lemma'])\n",
    "\n",
    "# Make predictions on the test set\n",
    "predictions = svm_classifier.predict(X_test_tfidf)\n",
    "\n",
    "# Create a DataFrame for submission\n",
    "df_submission = pd.DataFrame({'tweetid': df_test['tweetid'], 'sentiment': predictions})\n",
    "\n",
    "# Save the DataFrame to a CSV file\n",
    "df_submission.to_csv('svm_submission.csv', index=False)\n",
    "\n",
    "# Optionally, print accuracy and classification report\n",
    "print(\"Number of Rows:\", len(df_submission))\n",
    "print(f\"Accuracy: {accuracy}\")\n",
    "print(\"Classification Report:\")\n",
    "print(report)\n"
   ]
  },
  {
   "cell_type": "code",
   "execution_count": 28,
   "id": "9526a34a",
   "metadata": {},
   "outputs": [],
   "source": [
    "# Assuming df_test['tweetid'] has 10564 rows\n",
    "# Use the correct DataFrame for the number of rows\n",
    "df_submission = pd.DataFrame({'tweetid': df_test['tweetid'].iloc[:len(predictions)], 'sentiment': predictions})\n",
    "\n",
    "# Save the DataFrame to a CSV file\n",
    "df_submission.to_csv('svm_submission.csv', index=False)\n"
   ]
  },
  {
   "cell_type": "code",
   "execution_count": 29,
   "id": "d867ab41",
   "metadata": {},
   "outputs": [
    {
     "name": "stdout",
     "output_type": "stream",
     "text": [
      "WARNING:tensorflow:From D:\\My Stuff\\Documents\\Lib\\site-packages\\keras\\src\\backend.py:873: The name tf.get_default_graph is deprecated. Please use tf.compat.v1.get_default_graph instead.\n",
      "\n",
      "Epoch 1/10\n",
      "WARNING:tensorflow:From D:\\My Stuff\\Documents\\Lib\\site-packages\\keras\\src\\utils\\tf_utils.py:492: The name tf.ragged.RaggedTensorValue is deprecated. Please use tf.compat.v1.ragged.RaggedTensorValue instead.\n",
      "\n",
      "WARNING:tensorflow:From D:\\My Stuff\\Documents\\Lib\\site-packages\\keras\\src\\engine\\base_layer_utils.py:384: The name tf.executing_eagerly_outside_functions is deprecated. Please use tf.compat.v1.executing_eagerly_outside_functions instead.\n",
      "\n",
      "159/159 [==============================] - 23s 105ms/step - loss: 1.0305 - accuracy: 0.5833 - val_loss: 0.8234 - val_accuracy: 0.6800\n",
      "Epoch 2/10\n",
      "159/159 [==============================] - 15s 94ms/step - loss: 0.6494 - accuracy: 0.7548 - val_loss: 0.7593 - val_accuracy: 0.6938\n",
      "Epoch 3/10\n",
      "159/159 [==============================] - 15s 95ms/step - loss: 0.3486 - accuracy: 0.8761 - val_loss: 0.8794 - val_accuracy: 0.6926\n",
      "Epoch 4/10\n",
      "159/159 [==============================] - 15s 94ms/step - loss: 0.1683 - accuracy: 0.9486 - val_loss: 1.0129 - val_accuracy: 0.7056\n",
      "Epoch 5/10\n",
      "159/159 [==============================] - 16s 98ms/step - loss: 0.0787 - accuracy: 0.9786 - val_loss: 1.1794 - val_accuracy: 0.7084\n",
      "Epoch 6/10\n",
      "159/159 [==============================] - 15s 94ms/step - loss: 0.0482 - accuracy: 0.9875 - val_loss: 1.2938 - val_accuracy: 0.7068\n",
      "Epoch 7/10\n",
      "159/159 [==============================] - 15s 93ms/step - loss: 0.0371 - accuracy: 0.9911 - val_loss: 1.3689 - val_accuracy: 0.6997\n",
      "Epoch 8/10\n",
      "159/159 [==============================] - 15s 94ms/step - loss: 0.0294 - accuracy: 0.9933 - val_loss: 1.4689 - val_accuracy: 0.7092\n",
      "Epoch 9/10\n",
      "159/159 [==============================] - 15s 94ms/step - loss: 0.0215 - accuracy: 0.9949 - val_loss: 1.5298 - val_accuracy: 0.7045\n",
      "Epoch 10/10\n",
      "159/159 [==============================] - 15s 94ms/step - loss: 0.0184 - accuracy: 0.9957 - val_loss: 1.6670 - val_accuracy: 0.7001\n",
      "99/99 [==============================] - 1s 11ms/step - loss: 1.7206 - accuracy: 0.7004\n",
      "Test Accuracy: 0.7003792524337769\n"
     ]
    }
   ],
   "source": [
    "# Tokenize and preprocess text\n",
    "tokenizer = Tokenizer()\n",
    "tokenizer.fit_on_texts(X_train)\n",
    "X_train_pad = tokenizer.texts_to_sequences(X_train)\n",
    "X_test_pad = tokenizer.texts_to_sequences(X_test)\n",
    "\n",
    "# Pad sequences\n",
    "max_len = 75  # Choose an appropriate value\n",
    "X_train_pad = pad_sequences(X_train_pad, maxlen=max_len, padding='post')\n",
    "X_test_pad = pad_sequences(X_test_pad, maxlen=max_len, padding='post')\n",
    "\n",
    "# Encode labels\n",
    "label_encoder = LabelEncoder()\n",
    "y_train_encoded = label_encoder.fit_transform(y_train)\n",
    "y_test_encoded = label_encoder.transform(y_test)\n",
    "\n",
    "# Build CNN model\n",
    "model = Sequential()\n",
    "model.add(Embedding(input_dim=len(tokenizer.word_index) + 1, output_dim=100, input_length=max_len))\n",
    "model.add(Conv1D(256, 5, activation='relu'))\n",
    "model.add(GlobalMaxPooling1D())\n",
    "model.add(Dense(128, activation='relu'))\n",

    "model.add(Dropout(0.5))\n",
    "model.add(Dense(len(label_encoder.classes_), activation='softmax'))\n",
    "\n",
    "# Use a lower learning rate and add a learning rate scheduler\n",
    "initial_learning_rate = 0.001\n",
    "lr_schedule = tf.keras.optimizers.schedules.ExponentialDecay(\n",
    "    initial_learning_rate, decay_steps=10000, decay_rate=0.9, staircase=True\n",
    ")\n",
    "optimizer = tf.keras.optimizers.Adam(learning_rate=lr_schedule)\n",
    "\n",
    "model.compile(optimizer=optimizer, loss='sparse_categorical_crossentropy', metrics=['accuracy'])\n",
    "\n",
    "# Train the model with more epochs\n",
    "model.fit(X_train_pad, y_train_encoded, epochs=10, batch_size=64, validation_split=0.2)\n",
    "\n",
    "# Evaluate the model\n",
    "loss, accuracy = model.evaluate(X_test_pad, y_test_encoded)\n",

    "print(f\"Test Accuracy: {accuracy}\")\n"
   ]
  },
  {
   "cell_type": "code",
   "execution_count": 30,
   "id": "611c209a",
   "metadata": {},
   "outputs": [
    {
     "name": "stdout",
     "output_type": "stream",
     "text": [
      "Epoch 1/10\n",
      "159/159 [==============================] - 16s 94ms/step - loss: 1.0113 - accuracy: 0.5896 - val_loss: 0.8086 - val_accuracy: 0.6819\n",
      "Epoch 2/10\n",
      "159/159 [==============================] - 15s 92ms/step - loss: 0.6258 - accuracy: 0.7647 - val_loss: 0.7746 - val_accuracy: 0.6898\n",
      "Epoch 3/10\n",
      "159/159 [==============================] - 15s 91ms/step - loss: 0.3406 - accuracy: 0.8774 - val_loss: 0.9403 - val_accuracy: 0.7017\n",
      "Epoch 4/10\n",
      "159/159 [==============================] - 16s 100ms/step - loss: 0.1654 - accuracy: 0.9484 - val_loss: 1.0476 - val_accuracy: 0.6962\n",
      "Epoch 5/10\n",
      "159/159 [==============================] - 15s 93ms/step - loss: 0.0794 - accuracy: 0.9792 - val_loss: 1.2038 - val_accuracy: 0.6871\n",
      "99/99 [==============================] - 1s 11ms/step - loss: 0.7753 - accuracy: 0.6944\n",
      "Test Accuracy: 0.6943742036819458\n"
     ]
    }
   ],
   "source": [
    "label_encoder = LabelEncoder()\n",
    "y_train_encoded = label_encoder.fit_transform(y_train)\n",
    "y_test_encoded = label_encoder.transform(y_test)\n",
    "\n",
    "# Build CNN model\n",
    "model = Sequential()\n",
    "model.add(Embedding(input_dim=len(tokenizer.word_index) + 1, output_dim=100, input_length=max_len))\n",
    "model.add(Conv1D(256, 5, activation='relu'))\n",
    "model.add(GlobalMaxPooling1D())\n",
    "model.add(Dense(128, activation='relu'))\n",
    "model.add(Dropout(0.5))\n",
    "model.add(Dense(len(label_encoder.classes_), activation='softmax'))  # Use label_encoder.classes_\n",
    "\n",
    "# Use a lower learning rate and add a learning rate scheduler\n",
    "initial_learning_rate = 0.001\n",
    "lr_schedule = tf.keras.optimizers.schedules.ExponentialDecay(\n",
    "    initial_learning_rate, decay_steps=10000, decay_rate=0.9, staircase=True\n",
    ")\n",
    "optimizer = tf.keras.optimizers.Adam(learning_rate=lr_schedule)\n",
    "\n",
    "model.compile(optimizer=optimizer, loss='sparse_categorical_crossentropy', metrics=['accuracy'])\n",
    "\n",
    "# Implement Early Stopping\n",
    "early_stopping = EarlyStopping(monitor='val_loss', patience=3, restore_best_weights=True)\n",
    "\n",
    "# Train the model with more epochs and early stopping\n",
    "model.fit(X_train_pad, y_train_encoded, epochs=10, batch_size=64, validation_split=0.2, callbacks=[early_stopping])\n",
    "\n",
    "# Evaluate the model\n",
    "loss, accuracy = model.evaluate(X_test_pad, y_test_encoded)\n",
    "print(f\"Test Accuracy: {accuracy}\")\n"
   ]
  },
  {
   "cell_type": "code",

   "execution_count": 31,
   "id": "4510dc46",
   "metadata": {},
   "outputs": [
    {
     "name": "stdout",
     "output_type": "stream",
     "text": [
      "WARNING:tensorflow:From D:\\My Stuff\\Documents\\Lib\\site-packages\\keras\\src\\optimizers\\__init__.py:309: The name tf.train.Optimizer is deprecated. Please use tf.compat.v1.train.Optimizer instead.\n",
      "\n",
      "Epoch 1/5\n",
      "159/159 [==============================] - 12s 63ms/step - loss: 1.0332 - accuracy: 0.5751 - val_loss: 0.8241 - val_accuracy: 0.6756\n",
      "Epoch 2/5\n",
      "159/159 [==============================] - 10s 61ms/step - loss: 0.6029 - accuracy: 0.7701 - val_loss: 0.7402 - val_accuracy: 0.7187\n",
      "Epoch 3/5\n",
      "159/159 [==============================] - 11s 69ms/step - loss: 0.2591 - accuracy: 0.9142 - val_loss: 0.8562 - val_accuracy: 0.7191\n",
      "Epoch 4/5\n",
      "159/159 [==============================] - 10s 63ms/step - loss: 0.0938 - accuracy: 0.9743 - val_loss: 1.0490 - val_accuracy: 0.7116\n",
      "Epoch 5/5\n",
      "159/159 [==============================] - 10s 63ms/step - loss: 0.0457 - accuracy: 0.9876 - val_loss: 1.1163 - val_accuracy: 0.7116\n",
      "99/99 [==============================] - 1s 7ms/step - loss: 1.1331 - accuracy: 0.7165\n",
      "Test Accuracy: 0.716498076915741\n"
     ]
    }
   ],
   "source": [
    "label_encoder = LabelEncoder()\n",
    "y_train_encoded = label_encoder.fit_transform(y_train)\n",
    "y_test_encoded = label_encoder.transform(y_test)\n",
    "\n",
    "# Build CNN model\n",
    "model = Sequential()\n",
    "model.add(Embedding(input_dim=len(tokenizer.word_index) + 1, output_dim=100, input_length=max_len))\n",
    "model.add(Conv1D(128, 5, activation='relu'))\n",
    "model.add(GlobalMaxPooling1D())\n",
    "model.add(Dense(64, activation='relu'))\n",
    "model.add(Dense(len(label_encoder.classes_), activation='softmax'))\n",
    "\n",
    "model.compile(optimizer='adam', loss='sparse_categorical_crossentropy', metrics=['accuracy'])\n",
    "\n",
    "# Train the model\n",
    "model.fit(X_train_pad, y_train_encoded, epochs=5, batch_size=64, validation_split=0.2)\n",
    "\n",
    "# Evaluate the model\n",
    "loss, accuracy = model.evaluate(X_test_pad, y_test_encoded)\n",
    "print(f\"Test Accuracy: {accuracy}\")\n",
    "\n"
   ]
  },
  {
   "cell_type": "code",

   "execution_count": 32,
   "id": "ff4cfa77",
   "metadata": {},
   "outputs": [
    {
     "name": "stdout",
     "output_type": "stream",
     "text": [
      "Epoch 1/5\n",
      "159/159 [==============================] - 13s 71ms/step - loss: 1.0119 - accuracy: 0.5901 - val_loss: 0.8527 - val_accuracy: 0.6574\n",
      "Epoch 2/5\n",
      "159/159 [==============================] - 10s 61ms/step - loss: 0.6040 - accuracy: 0.7695 - val_loss: 0.7633 - val_accuracy: 0.7100\n",
      "Epoch 3/5\n",
      "159/159 [==============================] - 10s 61ms/step - loss: 0.2597 - accuracy: 0.9134 - val_loss: 0.8746 - val_accuracy: 0.7112\n",
      "Epoch 4/5\n",
      "159/159 [==============================] - 10s 61ms/step - loss: 0.0923 - accuracy: 0.9749 - val_loss: 1.0242 - val_accuracy: 0.7092\n",
      "Epoch 5/5\n",
      "159/159 [==============================] - 11s 67ms/step - loss: 0.0486 - accuracy: 0.9883 - val_loss: 1.1337 - val_accuracy: 0.7072\n",
      "99/99 [==============================] - 1s 7ms/step - loss: 1.1600 - accuracy: 0.7039\n",
      "Test Accuracy: 0.7038558721542358\n"
     ]
    }
   ],
   "source": [
    "label_encoder = LabelEncoder()\n",
    "y_train_encoded = label_encoder.fit_transform(y_train)\n",
    "y_test_encoded = label_encoder.transform(y_test)\n",
    "\n",
    "# Convert labels to one-hot encoding\n",
    "y_train_onehot = to_categorical(y_train_encoded)\n",
    "y_test_onehot = to_categorical(y_test_encoded)\n",
    "\n",
    "# Build CNN model\n",
    "model = Sequential()\n",
    "model.add(Embedding(input_dim=len(tokenizer.word_index) + 1, output_dim=100, input_length=max_len))\n",
    "model.add(Conv1D(128, 5, activation='relu'))\n",
    "model.add(GlobalMaxPooling1D())\n",
    "model.add(Dense(64, activation='relu'))\n",
    "model.add(Dense(len(label_encoder.classes_), activation='softmax'))\n",
    "\n",
    "model.compile(optimizer='adam', loss='categorical_crossentropy', metrics=['accuracy'])\n",
    "\n",
    "# Train the model\n",
    "model.fit(X_train_pad, y_train_onehot, epochs=5, batch_size=64, validation_split=0.2)\n",
    "\n",
    "# Evaluate the model\n",
    "loss, accuracy = model.evaluate(X_test_pad, y_test_onehot)\n",
    "print(f\"Test Accuracy: {accuracy}\")\n"
   ]
  },
  {
   "cell_type": "code",

   "execution_count": 33,
   "id": "922e4884",
   "metadata": {},
   "outputs": [
    {
     "ename": "ValueError",
     "evalue": "Found input variables with inconsistent numbers of samples: [3164, 10546]",
     "output_type": "error",
     "traceback": [
      "\u001b[1;31m---------------------------------------------------------------------------\u001b[0m",
      "\u001b[1;31mValueError\u001b[0m                                Traceback (most recent call last)",
      "Cell \u001b[1;32mIn[33], line 8\u001b[0m\n\u001b[0;32m      5\u001b[0m predictions \u001b[38;5;241m=\u001b[39m knn_classifier\u001b[38;5;241m.\u001b[39mpredict(X_test_tfidf)\n\u001b[0;32m      7\u001b[0m \u001b[38;5;66;03m# Evaluate the model\u001b[39;00m\n\u001b[1;32m----> 8\u001b[0m accuracy \u001b[38;5;241m=\u001b[39m accuracy_score(y_test, predictions)\n\u001b[0;32m      9\u001b[0m report \u001b[38;5;241m=\u001b[39m classification_report(y_test, predictions)\n\u001b[0;32m     11\u001b[0m \u001b[38;5;28mprint\u001b[39m(\u001b[38;5;124mf\u001b[39m\u001b[38;5;124m\"\u001b[39m\u001b[38;5;124mAccuracy: \u001b[39m\u001b[38;5;132;01m{\u001b[39;00maccuracy\u001b[38;5;132;01m}\u001b[39;00m\u001b[38;5;124m\"\u001b[39m)\n",
      "File \u001b[1;32mD:\\My Stuff\\Documents\\Lib\\site-packages\\sklearn\\utils\\_param_validation.py:192\u001b[0m, in \u001b[0;36mvalidate_params.<locals>.decorator.<locals>.wrapper\u001b[1;34m(*args, **kwargs)\u001b[0m\n\u001b[0;32m    187\u001b[0m validate_parameter_constraints(\n\u001b[0;32m    188\u001b[0m     parameter_constraints, params, caller_name\u001b[38;5;241m=\u001b[39mfunc\u001b[38;5;241m.\u001b[39m\u001b[38;5;18m__qualname__\u001b[39m\n\u001b[0;32m    189\u001b[0m )\n\u001b[0;32m    191\u001b[0m \u001b[38;5;28;01mtry\u001b[39;00m:\n\u001b[1;32m--> 192\u001b[0m     \u001b[38;5;28;01mreturn\u001b[39;00m func(\u001b[38;5;241m*\u001b[39margs, \u001b[38;5;241m*\u001b[39m\u001b[38;5;241m*\u001b[39mkwargs)\n\u001b[0;32m    193\u001b[0m \u001b[38;5;28;01mexcept\u001b[39;00m InvalidParameterError \u001b[38;5;28;01mas\u001b[39;00m e:\n\u001b[0;32m    194\u001b[0m     \u001b[38;5;66;03m# When the function is just a wrapper around an estimator, we allow\u001b[39;00m\n\u001b[0;32m    195\u001b[0m     \u001b[38;5;66;03m# the function to delegate validation to the estimator, but we replace\u001b[39;00m\n\u001b[0;32m    196\u001b[0m     \u001b[38;5;66;03m# the name of the estimator by the name of the function in the error\u001b[39;00m\n\u001b[0;32m    197\u001b[0m     \u001b[38;5;66;03m# message to avoid confusion.\u001b[39;00m\n\u001b[0;32m    198\u001b[0m     msg \u001b[38;5;241m=\u001b[39m re\u001b[38;5;241m.\u001b[39msub(\n\u001b[0;32m    199\u001b[0m         \u001b[38;5;124mr\u001b[39m\u001b[38;5;124m\"\u001b[39m\u001b[38;5;124mparameter of \u001b[39m\u001b[38;5;124m\\\u001b[39m\u001b[38;5;124mw+ must be\u001b[39m\u001b[38;5;124m\"\u001b[39m,\n\u001b[0;32m    200\u001b[0m         \u001b[38;5;124mf\u001b[39m\u001b[38;5;124m\"\u001b[39m\u001b[38;5;124mparameter of \u001b[39m\u001b[38;5;132;01m{\u001b[39;00mfunc\u001b[38;5;241m.\u001b[39m\u001b[38;5;18m__qualname__\u001b[39m\u001b[38;5;132;01m}\u001b[39;00m\u001b[38;5;124m must be\u001b[39m\u001b[38;5;124m\"\u001b[39m,\n\u001b[0;32m    201\u001b[0m         \u001b[38;5;28mstr\u001b[39m(e),\n\u001b[0;32m    202\u001b[0m     )\n",
      "File \u001b[1;32mD:\\My Stuff\\Documents\\Lib\\site-packages\\sklearn\\metrics\\_classification.py:221\u001b[0m, in \u001b[0;36maccuracy_score\u001b[1;34m(y_true, y_pred, normalize, sample_weight)\u001b[0m\n\u001b[0;32m    155\u001b[0m \u001b[38;5;250m\u001b[39m\u001b[38;5;124;03m\"\"\"Accuracy classification score.\u001b[39;00m\n\u001b[0;32m    156\u001b[0m \n\u001b[0;32m    157\u001b[0m \u001b[38;5;124;03mIn multilabel classification, this function computes subset accuracy:\u001b[39;00m\n\u001b[1;32m   (...)\u001b[0m\n\u001b[0;32m    217\u001b[0m \u001b[38;5;124;03m0.5\u001b[39;00m\n\u001b[0;32m    218\u001b[0m \u001b[38;5;124;03m\"\"\"\u001b[39;00m\n\u001b[0;32m    220\u001b[0m \u001b[38;5;66;03m# Compute accuracy for each possible representation\u001b[39;00m\n\u001b[1;32m--> 221\u001b[0m y_type, y_true, y_pred \u001b[38;5;241m=\u001b[39m _check_targets(y_true, y_pred)\n\u001b[0;32m    222\u001b[0m check_consistent_length(y_true, y_pred, sample_weight)\n\u001b[0;32m    223\u001b[0m \u001b[38;5;28;01mif\u001b[39;00m y_type\u001b[38;5;241m.\u001b[39mstartswith(\u001b[38;5;124m\"\u001b[39m\u001b[38;5;124mmultilabel\u001b[39m\u001b[38;5;124m\"\u001b[39m):\n",
      "File \u001b[1;32mD:\\My Stuff\\Documents\\Lib\\site-packages\\sklearn\\metrics\\_classification.py:86\u001b[0m, in \u001b[0;36m_check_targets\u001b[1;34m(y_true, y_pred)\u001b[0m\n\u001b[0;32m     59\u001b[0m \u001b[38;5;28;01mdef\u001b[39;00m \u001b[38;5;21m_check_targets\u001b[39m(y_true, y_pred):\n\u001b[0;32m     60\u001b[0m \u001b[38;5;250m    \u001b[39m\u001b[38;5;124;03m\"\"\"Check that y_true and y_pred belong to the same classification task.\u001b[39;00m\n\u001b[0;32m     61\u001b[0m \n\u001b[0;32m     62\u001b[0m \u001b[38;5;124;03m    This converts multiclass or binary types to a common shape, and raises a\u001b[39;00m\n\u001b[1;32m   (...)\u001b[0m\n\u001b[0;32m     84\u001b[0m \u001b[38;5;124;03m    y_pred : array or indicator matrix\u001b[39;00m\n\u001b[0;32m     85\u001b[0m \u001b[38;5;124;03m    \"\"\"\u001b[39;00m\n\u001b[1;32m---> 86\u001b[0m     check_consistent_length(y_true, y_pred)\n\u001b[0;32m     87\u001b[0m     type_true \u001b[38;5;241m=\u001b[39m type_of_target(y_true, input_name\u001b[38;5;241m=\u001b[39m\u001b[38;5;124m\"\u001b[39m\u001b[38;5;124my_true\u001b[39m\u001b[38;5;124m\"\u001b[39m)\n\u001b[0;32m     88\u001b[0m     type_pred \u001b[38;5;241m=\u001b[39m type_of_target(y_pred, input_name\u001b[38;5;241m=\u001b[39m\u001b[38;5;124m\"\u001b[39m\u001b[38;5;124my_pred\u001b[39m\u001b[38;5;124m\"\u001b[39m)\n",
      "File \u001b[1;32mD:\\My Stuff\\Documents\\Lib\\site-packages\\sklearn\\utils\\validation.py:397\u001b[0m, in \u001b[0;36mcheck_consistent_length\u001b[1;34m(*arrays)\u001b[0m\n\u001b[0;32m    395\u001b[0m uniques \u001b[38;5;241m=\u001b[39m np\u001b[38;5;241m.\u001b[39munique(lengths)\n\u001b[0;32m    396\u001b[0m \u001b[38;5;28;01mif\u001b[39;00m \u001b[38;5;28mlen\u001b[39m(uniques) \u001b[38;5;241m>\u001b[39m \u001b[38;5;241m1\u001b[39m:\n\u001b[1;32m--> 397\u001b[0m     \u001b[38;5;28;01mraise\u001b[39;00m \u001b[38;5;167;01mValueError\u001b[39;00m(\n\u001b[0;32m    398\u001b[0m         \u001b[38;5;124m\"\u001b[39m\u001b[38;5;124mFound input variables with inconsistent numbers of samples: \u001b[39m\u001b[38;5;132;01m%r\u001b[39;00m\u001b[38;5;124m\"\u001b[39m\n\u001b[0;32m    399\u001b[0m         \u001b[38;5;241m%\u001b[39m [\u001b[38;5;28mint\u001b[39m(l) \u001b[38;5;28;01mfor\u001b[39;00m l \u001b[38;5;129;01min\u001b[39;00m lengths]\n\u001b[0;32m    400\u001b[0m     )\n",
      "\u001b[1;31mValueError\u001b[0m: Found input variables with inconsistent numbers of samples: [3164, 10546]"
     ]
    }
   ],
   "source": [
    "knn_classifier = KNeighborsClassifier()\n",
    "knn_classifier.fit(X_train_tfidf, y_train)\n",
    "\n",
    "# Make predictions on the test set\n",
    "predictions = knn_classifier.predict(X_test_tfidf)\n",
    "\n",
    "# Evaluate the model\n",
    "accuracy = accuracy_score(y_test, predictions)\n",
    "report = classification_report(y_test, predictions)\n",
    "\n",
    "print(f\"Accuracy: {accuracy}\")\n",
    "print(\"Classification Report:\")\n",
    "print(report)"
   ]
  },
  {
   "cell_type": "code",

   "execution_count": 34,
   "id": "bcab9bb1",
   "metadata": {},
   "outputs": [
    {
     "ename": "ValueError",
     "evalue": "Found input variables with inconsistent numbers of samples: [3164, 10546]",
     "output_type": "error",
     "traceback": [
      "\u001b[1;31m---------------------------------------------------------------------------\u001b[0m",
      "\u001b[1;31mValueError\u001b[0m                                Traceback (most recent call last)",
      "Cell \u001b[1;32mIn[34], line 8\u001b[0m\n\u001b[0;32m      5\u001b[0m predictions \u001b[38;5;241m=\u001b[39m random_forest_classifier\u001b[38;5;241m.\u001b[39mpredict(X_test_tfidf)\n\u001b[0;32m      7\u001b[0m \u001b[38;5;66;03m# Evaluate the model\u001b[39;00m\n\u001b[1;32m----> 8\u001b[0m accuracy \u001b[38;5;241m=\u001b[39m accuracy_score(y_test, predictions)\n\u001b[0;32m      9\u001b[0m report \u001b[38;5;241m=\u001b[39m classification_report(y_test, predictions)\n\u001b[0;32m     11\u001b[0m \u001b[38;5;28mprint\u001b[39m(\u001b[38;5;124mf\u001b[39m\u001b[38;5;124m\"\u001b[39m\u001b[38;5;124mAccuracy: \u001b[39m\u001b[38;5;132;01m{\u001b[39;00maccuracy\u001b[38;5;132;01m}\u001b[39;00m\u001b[38;5;124m\"\u001b[39m)\n",
      "File \u001b[1;32mD:\\My Stuff\\Documents\\Lib\\site-packages\\sklearn\\utils\\_param_validation.py:192\u001b[0m, in \u001b[0;36mvalidate_params.<locals>.decorator.<locals>.wrapper\u001b[1;34m(*args, **kwargs)\u001b[0m\n\u001b[0;32m    187\u001b[0m validate_parameter_constraints(\n\u001b[0;32m    188\u001b[0m     parameter_constraints, params, caller_name\u001b[38;5;241m=\u001b[39mfunc\u001b[38;5;241m.\u001b[39m\u001b[38;5;18m__qualname__\u001b[39m\n\u001b[0;32m    189\u001b[0m )\n\u001b[0;32m    191\u001b[0m \u001b[38;5;28;01mtry\u001b[39;00m:\n\u001b[1;32m--> 192\u001b[0m     \u001b[38;5;28;01mreturn\u001b[39;00m func(\u001b[38;5;241m*\u001b[39margs, \u001b[38;5;241m*\u001b[39m\u001b[38;5;241m*\u001b[39mkwargs)\n\u001b[0;32m    193\u001b[0m \u001b[38;5;28;01mexcept\u001b[39;00m InvalidParameterError \u001b[38;5;28;01mas\u001b[39;00m e:\n\u001b[0;32m    194\u001b[0m     \u001b[38;5;66;03m# When the function is just a wrapper around an estimator, we allow\u001b[39;00m\n\u001b[0;32m    195\u001b[0m     \u001b[38;5;66;03m# the function to delegate validation to the estimator, but we replace\u001b[39;00m\n\u001b[0;32m    196\u001b[0m     \u001b[38;5;66;03m# the name of the estimator by the name of the function in the error\u001b[39;00m\n\u001b[0;32m    197\u001b[0m     \u001b[38;5;66;03m# message to avoid confusion.\u001b[39;00m\n\u001b[0;32m    198\u001b[0m     msg \u001b[38;5;241m=\u001b[39m re\u001b[38;5;241m.\u001b[39msub(\n\u001b[0;32m    199\u001b[0m         \u001b[38;5;124mr\u001b[39m\u001b[38;5;124m\"\u001b[39m\u001b[38;5;124mparameter of \u001b[39m\u001b[38;5;124m\\\u001b[39m\u001b[38;5;124mw+ must be\u001b[39m\u001b[38;5;124m\"\u001b[39m,\n\u001b[0;32m    200\u001b[0m         \u001b[38;5;124mf\u001b[39m\u001b[38;5;124m\"\u001b[39m\u001b[38;5;124mparameter of \u001b[39m\u001b[38;5;132;01m{\u001b[39;00mfunc\u001b[38;5;241m.\u001b[39m\u001b[38;5;18m__qualname__\u001b[39m\u001b[38;5;132;01m}\u001b[39;00m\u001b[38;5;124m must be\u001b[39m\u001b[38;5;124m\"\u001b[39m,\n\u001b[0;32m    201\u001b[0m         \u001b[38;5;28mstr\u001b[39m(e),\n\u001b[0;32m    202\u001b[0m     )\n",
      "File \u001b[1;32mD:\\My Stuff\\Documents\\Lib\\site-packages\\sklearn\\metrics\\_classification.py:221\u001b[0m, in \u001b[0;36maccuracy_score\u001b[1;34m(y_true, y_pred, normalize, sample_weight)\u001b[0m\n\u001b[0;32m    155\u001b[0m \u001b[38;5;250m\u001b[39m\u001b[38;5;124;03m\"\"\"Accuracy classification score.\u001b[39;00m\n\u001b[0;32m    156\u001b[0m \n\u001b[0;32m    157\u001b[0m \u001b[38;5;124;03mIn multilabel classification, this function computes subset accuracy:\u001b[39;00m\n\u001b[1;32m   (...)\u001b[0m\n\u001b[0;32m    217\u001b[0m \u001b[38;5;124;03m0.5\u001b[39;00m\n\u001b[0;32m    218\u001b[0m \u001b[38;5;124;03m\"\"\"\u001b[39;00m\n\u001b[0;32m    220\u001b[0m \u001b[38;5;66;03m# Compute accuracy for each possible representation\u001b[39;00m\n\u001b[1;32m--> 221\u001b[0m y_type, y_true, y_pred \u001b[38;5;241m=\u001b[39m _check_targets(y_true, y_pred)\n\u001b[0;32m    222\u001b[0m check_consistent_length(y_true, y_pred, sample_weight)\n\u001b[0;32m    223\u001b[0m \u001b[38;5;28;01mif\u001b[39;00m y_type\u001b[38;5;241m.\u001b[39mstartswith(\u001b[38;5;124m\"\u001b[39m\u001b[38;5;124mmultilabel\u001b[39m\u001b[38;5;124m\"\u001b[39m):\n",
      "File \u001b[1;32mD:\\My Stuff\\Documents\\Lib\\site-packages\\sklearn\\metrics\\_classification.py:86\u001b[0m, in \u001b[0;36m_check_targets\u001b[1;34m(y_true, y_pred)\u001b[0m\n\u001b[0;32m     59\u001b[0m \u001b[38;5;28;01mdef\u001b[39;00m \u001b[38;5;21m_check_targets\u001b[39m(y_true, y_pred):\n\u001b[0;32m     60\u001b[0m \u001b[38;5;250m    \u001b[39m\u001b[38;5;124;03m\"\"\"Check that y_true and y_pred belong to the same classification task.\u001b[39;00m\n\u001b[0;32m     61\u001b[0m \n\u001b[0;32m     62\u001b[0m \u001b[38;5;124;03m    This converts multiclass or binary types to a common shape, and raises a\u001b[39;00m\n\u001b[1;32m   (...)\u001b[0m\n\u001b[0;32m     84\u001b[0m \u001b[38;5;124;03m    y_pred : array or indicator matrix\u001b[39;00m\n\u001b[0;32m     85\u001b[0m \u001b[38;5;124;03m    \"\"\"\u001b[39;00m\n\u001b[1;32m---> 86\u001b[0m     check_consistent_length(y_true, y_pred)\n\u001b[0;32m     87\u001b[0m     type_true \u001b[38;5;241m=\u001b[39m type_of_target(y_true, input_name\u001b[38;5;241m=\u001b[39m\u001b[38;5;124m\"\u001b[39m\u001b[38;5;124my_true\u001b[39m\u001b[38;5;124m\"\u001b[39m)\n\u001b[0;32m     88\u001b[0m     type_pred \u001b[38;5;241m=\u001b[39m type_of_target(y_pred, input_name\u001b[38;5;241m=\u001b[39m\u001b[38;5;124m\"\u001b[39m\u001b[38;5;124my_pred\u001b[39m\u001b[38;5;124m\"\u001b[39m)\n",
      "File \u001b[1;32mD:\\My Stuff\\Documents\\Lib\\site-packages\\sklearn\\utils\\validation.py:397\u001b[0m, in \u001b[0;36mcheck_consistent_length\u001b[1;34m(*arrays)\u001b[0m\n\u001b[0;32m    395\u001b[0m uniques \u001b[38;5;241m=\u001b[39m np\u001b[38;5;241m.\u001b[39munique(lengths)\n\u001b[0;32m    396\u001b[0m \u001b[38;5;28;01mif\u001b[39;00m \u001b[38;5;28mlen\u001b[39m(uniques) \u001b[38;5;241m>\u001b[39m \u001b[38;5;241m1\u001b[39m:\n\u001b[1;32m--> 397\u001b[0m     \u001b[38;5;28;01mraise\u001b[39;00m \u001b[38;5;167;01mValueError\u001b[39;00m(\n\u001b[0;32m    398\u001b[0m         \u001b[38;5;124m\"\u001b[39m\u001b[38;5;124mFound input variables with inconsistent numbers of samples: \u001b[39m\u001b[38;5;132;01m%r\u001b[39;00m\u001b[38;5;124m\"\u001b[39m\n\u001b[0;32m    399\u001b[0m         \u001b[38;5;241m%\u001b[39m [\u001b[38;5;28mint\u001b[39m(l) \u001b[38;5;28;01mfor\u001b[39;00m l \u001b[38;5;129;01min\u001b[39;00m lengths]\n\u001b[0;32m    400\u001b[0m     )\n",
      "\u001b[1;31mValueError\u001b[0m: Found input variables with inconsistent numbers of samples: [3164, 10546]"
     ]
    }
   ],
   "source": [

    "random_forest_classifier = RandomForestClassifier(random_state=42)\n",
    "random_forest_classifier.fit(X_train_tfidf, y_train)\n",
    "\n",
    "# Make predictions on the test set\n",
    "predictions = random_forest_classifier.predict(X_test_tfidf)\n",
    "\n",
    "# Evaluate the model\n",
    "accuracy = accuracy_score(y_test, predictions)\n",
    "report = classification_report(y_test, predictions)\n",
    "\n",
    "print(f\"Accuracy: {accuracy}\")\n",
    "print(\"Classification Report:\")\n",
    "print(report)"
   ]
  },
  {
   "cell_type": "code",
   "execution_count": null,
   "id": "9e40ef25",
   "metadata": {},
   "outputs": [],
   "source": []
  },
  {
   "cell_type": "markdown",
   "id": "184102a6",
   "metadata": {},
   "source": [
    "<a id=\"six\"></a>\n",
    "## 6. Model Performance\n",
    "<a class=\"anchor\" id=\"1.1\"></a>\n",
    "<a href=#cont>Back to Table of Contents</a>\n",
    "\n",
    "---\n",
    "    \n",
    "| ⚡ Description: Model performance ⚡ |\n",
    "| :--------------------------- |\n",
    "| Compare the relative performance of the various trained ML models on a holdout dataset and comment on what model is the best and why. |\n",
    "\n",
    "---"
   ]
  },
  {
   "cell_type": "markdown",
   "id": "1cea62eb",
   "metadata": {},
   "source": [
    "<a id=\"seven\"></a>\n",
    "## 7. Model Explanations\n",
    "<a class=\"anchor\" id=\"1.1\"></a>\n",
    "<a href=#cont>Back to Table of Contents</a>\n",
    "\n",
    "---\n",
    "    \n",
    "| ⚡ Description: Model explanation ⚡ |\n",
    "| :--------------------------- |\n",
    "| In this section, you are required to discuss how the best performing model works in a simple way so that both technical and non-technical stakeholders can grasp the intuition behind the model's inner workings. |\n",
    "\n",
    "---"
   ]
  }
 ],
 "metadata": {
  "kernelspec": {
   "display_name": "Python 3 (ipykernel)",
   "language": "python",
   "name": "python3"
  },
  "language_info": {
   "codemirror_mode": {
    "name": "ipython",
    "version": 3
   },
   "file_extension": ".py",
   "mimetype": "text/x-python",
   "name": "python",
   "nbconvert_exporter": "python",
   "pygments_lexer": "ipython3",
   "version": "3.11.5"
  }
 },
 "nbformat": 4,
 "nbformat_minor": 5
}
